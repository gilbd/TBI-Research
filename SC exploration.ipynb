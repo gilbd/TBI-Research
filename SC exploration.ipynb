{
 "cells": [
  {
   "cell_type": "markdown",
   "id": "forbidden-highway",
   "metadata": {
    "toc": true
   },
   "source": [
    "<h1>Table of Contents<span class=\"tocSkip\"></span></h1>\n",
    "<div class=\"toc\"><ul class=\"toc-item\"><li><span><a href=\"#SC-Exploration\" data-toc-modified-id=\"SC-Exploration-2\">SC Exploration</a></span></li><li><span><a href=\"#0.-Imports-&amp;-Data-Loading\" data-toc-modified-id=\"0.-Imports-&amp;-Data-Loading-3\">0. Imports &amp; Data Loading</a></span></li><li><span><a href=\"#1.-Kendall-Tau-Correlation\" data-toc-modified-id=\"1.-Kendall-Tau-Correlation-4\">1. Kendall Tau Correlation</a></span></li><li><span><a href=\"#2.-ICA\" data-toc-modified-id=\"2.-ICA-5\">2. ICA</a></span></li><li><span><a href=\"#4.-Test\" data-toc-modified-id=\"4.-Test-6\">4. Test</a></span><ul class=\"toc-item\"><li><span><a href=\"#4.1-utils\" data-toc-modified-id=\"4.1-utils-6.1\">4.1 utils</a></span></li><li><span><a href=\"#4.2-Unified-distribution\" data-toc-modified-id=\"4.2-Unified-distribution-6.2\">4.2 Unified distribution</a></span></li><li><span><a href=\"#4.3-Normal-distribution\" data-toc-modified-id=\"4.3-Normal-distribution-6.3\">4.3 Normal distribution</a></span></li><li><span><a href=\"#4.2-Sparse-matrices\" data-toc-modified-id=\"4.2-Sparse-matrices-6.4\">4.2 Sparse matrices</a></span></li></ul></li></ul></div>"
   ]
  },
  {
   "cell_type": "markdown",
   "id": "available-leader",
   "metadata": {},
   "source": [
    "# SC Exploration"
   ]
  },
  {
   "cell_type": "markdown",
   "id": "moved-paris",
   "metadata": {},
   "source": [
    "In the following notebook we'll explore the SC dataset."
   ]
  },
  {
   "cell_type": "markdown",
   "id": "defensive-western",
   "metadata": {},
   "source": [
    "# 0. Imports & Data Loading"
   ]
  },
  {
   "cell_type": "code",
   "execution_count": 292,
   "id": "further-explosion",
   "metadata": {
    "ExecuteTime": {
     "end_time": "2021-07-16T13:28:44.388943Z",
     "start_time": "2021-07-16T13:28:44.365516Z"
    }
   },
   "outputs": [],
   "source": [
    "import os\n",
    "import pickle\n",
    "import numpy as np\n",
    "import pandas as pd\n",
    "import seaborn as sns\n",
    "from scipy import stats\n",
    "from scipy import sparse\n",
    "from scipy.fft import fft\n",
    "from tqdm.notebook import tqdm\n",
    "import matplotlib.pyplot as plt\n",
    "from sklearn.decomposition import FastICA\n",
    "from scipy.sparse.csgraph import laplacian\n",
    "from multiprocessing import Pool, cpu_count\n",
    "\n",
    "%matplotlib inline"
   ]
  },
  {
   "cell_type": "code",
   "execution_count": 3,
   "id": "exclusive-adaptation",
   "metadata": {
    "ExecuteTime": {
     "end_time": "2021-07-13T13:54:54.102120Z",
     "start_time": "2021-07-13T13:54:54.083816Z"
    }
   },
   "outputs": [],
   "source": [
    "FC_PATH = 'Data/FC/'\n",
    "SC_PATH = 'Data/SC/'"
   ]
  },
  {
   "cell_type": "code",
   "execution_count": 4,
   "id": "governmental-district",
   "metadata": {
    "ExecuteTime": {
     "end_time": "2021-07-13T13:54:54.111622Z",
     "start_time": "2021-07-13T13:54:54.104112Z"
    }
   },
   "outputs": [],
   "source": [
    "class Connectome:\n",
    "    def __init__(self, brain_id):\n",
    "        self.brain_id = brain_id\n",
    "        self.FC = pd.read_csv(self._get_fc_path(), header=None)\n",
    "        self.SC = pd.read_csv(self._get_sc_path(), header=None)\n",
    "        \n",
    "    def _get_fc_path(self):\n",
    "        path = [p for p in os.listdir(FC_PATH) if self.brain_id in p][0]\n",
    "        return os.path.join(FC_PATH, path)\n",
    "    \n",
    "    def _get_sc_path(self):\n",
    "        path = [p for p in os.listdir(SC_PATH) if self.brain_id in p][0]\n",
    "        return os.path.join(SC_PATH, path)"
   ]
  },
  {
   "cell_type": "code",
   "execution_count": 4,
   "id": "binding-filing",
   "metadata": {
    "ExecuteTime": {
     "end_time": "2021-07-13T13:33:16.970869Z",
     "start_time": "2021-07-13T13:33:16.962890Z"
    },
    "deletable": false,
    "editable": false,
    "run_control": {
     "frozen": true
    }
   },
   "outputs": [],
   "source": [
    "brain_ids_sc = [p.split('_')[0] for p in os.listdir(SC_PATH)]\n",
    "brain_ids_fc = [p.split('_')[0] for p in os.listdir(FC_PATH)]\n",
    "brain_ids = set(brain_ids_fc).intersection(set(brain_ids_sc))\n",
    "with open('brain_ids.pkl', 'wb') as f:\n",
    "    pickle.dump(brain_ids, f, pickle.HIGHEST_PROTOCOL)"
   ]
  },
  {
   "cell_type": "code",
   "execution_count": 5,
   "id": "multiple-stamp",
   "metadata": {
    "ExecuteTime": {
     "end_time": "2021-07-13T13:54:54.126196Z",
     "start_time": "2021-07-13T13:54:54.113617Z"
    }
   },
   "outputs": [],
   "source": [
    "with open('brain_ids.pkl', 'rb') as f:\n",
    "    brain_ids = pickle.load(f)"
   ]
  },
  {
   "cell_type": "code",
   "execution_count": 6,
   "id": "instant-glory",
   "metadata": {
    "ExecuteTime": {
     "end_time": "2021-07-13T13:54:54.947119Z",
     "start_time": "2021-07-13T13:54:54.128193Z"
    }
   },
   "outputs": [],
   "source": [
    "connectomes = {brain_id : Connectome(brain_id) for brain_id in brain_ids}"
   ]
  },
  {
   "cell_type": "code",
   "execution_count": 7,
   "id": "liberal-finder",
   "metadata": {
    "ExecuteTime": {
     "end_time": "2021-07-13T13:54:55.428919Z",
     "start_time": "2021-07-13T13:54:54.950803Z"
    }
   },
   "outputs": [
    {
     "data": {
      "text/plain": [
       "<AxesSubplot:>"
      ]
     },
     "execution_count": 7,
     "metadata": {},
     "output_type": "execute_result"
    },
    {
     "data": {
      "image/png": "[encoded data removed]",
      "text/plain": [
       "<Figure size 432x288 with 2 Axes>"
      ]
     },
     "metadata": {
      "needs_background": "light"
     },
     "output_type": "display_data"
    }
   ],
   "source": [
    "df_sc = pd.read_csv('Data/SC/333001_NH_SC_Matrix_unordered_TH_PA.csv', header=None)\n",
    "df_fc = pd.read_csv('Data/FC/333001_1_NH_Int_Matrix_PA.csv', header=None)\n",
    "sns.heatmap(df_sc)"
   ]
  },
  {
   "cell_type": "code",
   "execution_count": 8,
   "id": "natural-owner",
   "metadata": {
    "ExecuteTime": {
     "end_time": "2021-07-13T13:54:55.478016Z",
     "start_time": "2021-07-13T13:54:55.433287Z"
    }
   },
   "outputs": [
    {
     "data": {
      "text/html": [
       "<div>\n",
       "<style scoped>\n",
       "    .dataframe tbody tr th:only-of-type {\n",
       "        vertical-align: middle;\n",
       "    }\n",
       "\n",
       "    .dataframe tbody tr th {\n",
       "        vertical-align: top;\n",
       "    }\n",
       "\n",
       "    .dataframe thead th {\n",
       "        text-align: right;\n",
       "    }\n",
       "</style>\n",
       "<table border=\"1\" class=\"dataframe\">\n",
       "  <thead>\n",
       "    <tr style=\"text-align: right;\">\n",
       "      <th></th>\n",
       "      <th>0</th>\n",
       "      <th>1</th>\n",
       "      <th>2</th>\n",
       "      <th>3</th>\n",
       "      <th>4</th>\n",
       "      <th>5</th>\n",
       "      <th>6</th>\n",
       "      <th>7</th>\n",
       "      <th>8</th>\n",
       "      <th>9</th>\n",
       "      <th>...</th>\n",
       "      <th>106</th>\n",
       "      <th>107</th>\n",
       "      <th>108</th>\n",
       "      <th>109</th>\n",
       "      <th>110</th>\n",
       "      <th>111</th>\n",
       "      <th>112</th>\n",
       "      <th>113</th>\n",
       "      <th>114</th>\n",
       "      <th>115</th>\n",
       "    </tr>\n",
       "  </thead>\n",
       "  <tbody>\n",
       "    <tr>\n",
       "      <th>0</th>\n",
       "      <td>1843</td>\n",
       "      <td>22</td>\n",
       "      <td>277</td>\n",
       "      <td>52</td>\n",
       "      <td>0</td>\n",
       "      <td>0</td>\n",
       "      <td>127</td>\n",
       "      <td>0</td>\n",
       "      <td>0</td>\n",
       "      <td>0</td>\n",
       "      <td>...</td>\n",
       "      <td>0</td>\n",
       "      <td>0</td>\n",
       "      <td>0</td>\n",
       "      <td>0</td>\n",
       "      <td>0</td>\n",
       "      <td>0</td>\n",
       "      <td>0</td>\n",
       "      <td>0</td>\n",
       "      <td>0</td>\n",
       "      <td>0</td>\n",
       "    </tr>\n",
       "    <tr>\n",
       "      <th>1</th>\n",
       "      <td>22</td>\n",
       "      <td>1595</td>\n",
       "      <td>0</td>\n",
       "      <td>311</td>\n",
       "      <td>0</td>\n",
       "      <td>0</td>\n",
       "      <td>0</td>\n",
       "      <td>48</td>\n",
       "      <td>0</td>\n",
       "      <td>0</td>\n",
       "      <td>...</td>\n",
       "      <td>0</td>\n",
       "      <td>0</td>\n",
       "      <td>138</td>\n",
       "      <td>78</td>\n",
       "      <td>0</td>\n",
       "      <td>0</td>\n",
       "      <td>0</td>\n",
       "      <td>0</td>\n",
       "      <td>0</td>\n",
       "      <td>74</td>\n",
       "    </tr>\n",
       "    <tr>\n",
       "      <th>2</th>\n",
       "      <td>277</td>\n",
       "      <td>0</td>\n",
       "      <td>3772</td>\n",
       "      <td>1252</td>\n",
       "      <td>78</td>\n",
       "      <td>33</td>\n",
       "      <td>770</td>\n",
       "      <td>0</td>\n",
       "      <td>100</td>\n",
       "      <td>0</td>\n",
       "      <td>...</td>\n",
       "      <td>0</td>\n",
       "      <td>0</td>\n",
       "      <td>28</td>\n",
       "      <td>0</td>\n",
       "      <td>0</td>\n",
       "      <td>0</td>\n",
       "      <td>0</td>\n",
       "      <td>0</td>\n",
       "      <td>0</td>\n",
       "      <td>29</td>\n",
       "    </tr>\n",
       "    <tr>\n",
       "      <th>3</th>\n",
       "      <td>52</td>\n",
       "      <td>311</td>\n",
       "      <td>1252</td>\n",
       "      <td>4518</td>\n",
       "      <td>266</td>\n",
       "      <td>177</td>\n",
       "      <td>267</td>\n",
       "      <td>430</td>\n",
       "      <td>0</td>\n",
       "      <td>38</td>\n",
       "      <td>...</td>\n",
       "      <td>0</td>\n",
       "      <td>0</td>\n",
       "      <td>89</td>\n",
       "      <td>39</td>\n",
       "      <td>0</td>\n",
       "      <td>0</td>\n",
       "      <td>0</td>\n",
       "      <td>0</td>\n",
       "      <td>0</td>\n",
       "      <td>95</td>\n",
       "    </tr>\n",
       "    <tr>\n",
       "      <th>4</th>\n",
       "      <td>0</td>\n",
       "      <td>0</td>\n",
       "      <td>78</td>\n",
       "      <td>266</td>\n",
       "      <td>1498</td>\n",
       "      <td>302</td>\n",
       "      <td>0</td>\n",
       "      <td>0</td>\n",
       "      <td>15</td>\n",
       "      <td>0</td>\n",
       "      <td>...</td>\n",
       "      <td>0</td>\n",
       "      <td>0</td>\n",
       "      <td>0</td>\n",
       "      <td>0</td>\n",
       "      <td>0</td>\n",
       "      <td>0</td>\n",
       "      <td>0</td>\n",
       "      <td>0</td>\n",
       "      <td>0</td>\n",
       "      <td>18</td>\n",
       "    </tr>\n",
       "    <tr>\n",
       "      <th>...</th>\n",
       "      <td>...</td>\n",
       "      <td>...</td>\n",
       "      <td>...</td>\n",
       "      <td>...</td>\n",
       "      <td>...</td>\n",
       "      <td>...</td>\n",
       "      <td>...</td>\n",
       "      <td>...</td>\n",
       "      <td>...</td>\n",
       "      <td>...</td>\n",
       "      <td>...</td>\n",
       "      <td>...</td>\n",
       "      <td>...</td>\n",
       "      <td>...</td>\n",
       "      <td>...</td>\n",
       "      <td>...</td>\n",
       "      <td>...</td>\n",
       "      <td>...</td>\n",
       "      <td>...</td>\n",
       "      <td>...</td>\n",
       "      <td>...</td>\n",
       "    </tr>\n",
       "    <tr>\n",
       "      <th>111</th>\n",
       "      <td>0</td>\n",
       "      <td>0</td>\n",
       "      <td>0</td>\n",
       "      <td>0</td>\n",
       "      <td>0</td>\n",
       "      <td>0</td>\n",
       "      <td>0</td>\n",
       "      <td>0</td>\n",
       "      <td>0</td>\n",
       "      <td>0</td>\n",
       "      <td>...</td>\n",
       "      <td>0</td>\n",
       "      <td>0</td>\n",
       "      <td>0</td>\n",
       "      <td>0</td>\n",
       "      <td>24</td>\n",
       "      <td>64</td>\n",
       "      <td>0</td>\n",
       "      <td>15</td>\n",
       "      <td>0</td>\n",
       "      <td>0</td>\n",
       "    </tr>\n",
       "    <tr>\n",
       "      <th>112</th>\n",
       "      <td>0</td>\n",
       "      <td>0</td>\n",
       "      <td>0</td>\n",
       "      <td>0</td>\n",
       "      <td>0</td>\n",
       "      <td>0</td>\n",
       "      <td>0</td>\n",
       "      <td>0</td>\n",
       "      <td>0</td>\n",
       "      <td>0</td>\n",
       "      <td>...</td>\n",
       "      <td>0</td>\n",
       "      <td>0</td>\n",
       "      <td>0</td>\n",
       "      <td>0</td>\n",
       "      <td>0</td>\n",
       "      <td>0</td>\n",
       "      <td>0</td>\n",
       "      <td>0</td>\n",
       "      <td>0</td>\n",
       "      <td>0</td>\n",
       "    </tr>\n",
       "    <tr>\n",
       "      <th>113</th>\n",
       "      <td>0</td>\n",
       "      <td>0</td>\n",
       "      <td>0</td>\n",
       "      <td>0</td>\n",
       "      <td>0</td>\n",
       "      <td>0</td>\n",
       "      <td>0</td>\n",
       "      <td>0</td>\n",
       "      <td>0</td>\n",
       "      <td>0</td>\n",
       "      <td>...</td>\n",
       "      <td>0</td>\n",
       "      <td>0</td>\n",
       "      <td>0</td>\n",
       "      <td>0</td>\n",
       "      <td>24</td>\n",
       "      <td>15</td>\n",
       "      <td>0</td>\n",
       "      <td>24</td>\n",
       "      <td>0</td>\n",
       "      <td>0</td>\n",
       "    </tr>\n",
       "    <tr>\n",
       "      <th>114</th>\n",
       "      <td>0</td>\n",
       "      <td>0</td>\n",
       "      <td>0</td>\n",
       "      <td>0</td>\n",
       "      <td>0</td>\n",
       "      <td>0</td>\n",
       "      <td>0</td>\n",
       "      <td>0</td>\n",
       "      <td>0</td>\n",
       "      <td>0</td>\n",
       "      <td>...</td>\n",
       "      <td>0</td>\n",
       "      <td>0</td>\n",
       "      <td>39</td>\n",
       "      <td>75</td>\n",
       "      <td>25</td>\n",
       "      <td>0</td>\n",
       "      <td>0</td>\n",
       "      <td>0</td>\n",
       "      <td>75</td>\n",
       "      <td>65</td>\n",
       "    </tr>\n",
       "    <tr>\n",
       "      <th>115</th>\n",
       "      <td>0</td>\n",
       "      <td>74</td>\n",
       "      <td>29</td>\n",
       "      <td>95</td>\n",
       "      <td>18</td>\n",
       "      <td>0</td>\n",
       "      <td>0</td>\n",
       "      <td>0</td>\n",
       "      <td>0</td>\n",
       "      <td>10</td>\n",
       "      <td>...</td>\n",
       "      <td>0</td>\n",
       "      <td>0</td>\n",
       "      <td>661</td>\n",
       "      <td>418</td>\n",
       "      <td>20</td>\n",
       "      <td>0</td>\n",
       "      <td>0</td>\n",
       "      <td>0</td>\n",
       "      <td>65</td>\n",
       "      <td>1044</td>\n",
       "    </tr>\n",
       "  </tbody>\n",
       "</table>\n",
       "<p>116 rows × 116 columns</p>\n",
       "</div>"
      ],
      "text/plain": [
       "      0     1     2     3     4    5    6    7    8    9    ...  106  107  \\\n",
       "0    1843    22   277    52     0    0  127    0    0    0  ...    0    0   \n",
       "1      22  1595     0   311     0    0    0   48    0    0  ...    0    0   \n",
       "2     277     0  3772  1252    78   33  770    0  100    0  ...    0    0   \n",
       "3      52   311  1252  4518   266  177  267  430    0   38  ...    0    0   \n",
       "4       0     0    78   266  1498  302    0    0   15    0  ...    0    0   \n",
       "..    ...   ...   ...   ...   ...  ...  ...  ...  ...  ...  ...  ...  ...   \n",
       "111     0     0     0     0     0    0    0    0    0    0  ...    0    0   \n",
       "112     0     0     0     0     0    0    0    0    0    0  ...    0    0   \n",
       "113     0     0     0     0     0    0    0    0    0    0  ...    0    0   \n",
       "114     0     0     0     0     0    0    0    0    0    0  ...    0    0   \n",
       "115     0    74    29    95    18    0    0    0    0   10  ...    0    0   \n",
       "\n",
       "     108  109  110  111  112  113  114   115  \n",
       "0      0    0    0    0    0    0    0     0  \n",
       "1    138   78    0    0    0    0    0    74  \n",
       "2     28    0    0    0    0    0    0    29  \n",
       "3     89   39    0    0    0    0    0    95  \n",
       "4      0    0    0    0    0    0    0    18  \n",
       "..   ...  ...  ...  ...  ...  ...  ...   ...  \n",
       "111    0    0   24   64    0   15    0     0  \n",
       "112    0    0    0    0    0    0    0     0  \n",
       "113    0    0   24   15    0   24    0     0  \n",
       "114   39   75   25    0    0    0   75    65  \n",
       "115  661  418   20    0    0    0   65  1044  \n",
       "\n",
       "[116 rows x 116 columns]"
      ]
     },
     "execution_count": 8,
     "metadata": {},
     "output_type": "execute_result"
    }
   ],
   "source": [
    "df_sc"
   ]
  },
  {
   "cell_type": "code",
   "execution_count": 9,
   "id": "appreciated-secretariat",
   "metadata": {
    "ExecuteTime": {
     "end_time": "2021-07-13T13:54:55.529400Z",
     "start_time": "2021-07-13T13:54:55.481532Z"
    }
   },
   "outputs": [
    {
     "data": {
      "text/html": [
       "<div>\n",
       "<style scoped>\n",
       "    .dataframe tbody tr th:only-of-type {\n",
       "        vertical-align: middle;\n",
       "    }\n",
       "\n",
       "    .dataframe tbody tr th {\n",
       "        vertical-align: top;\n",
       "    }\n",
       "\n",
       "    .dataframe thead th {\n",
       "        text-align: right;\n",
       "    }\n",
       "</style>\n",
       "<table border=\"1\" class=\"dataframe\">\n",
       "  <thead>\n",
       "    <tr style=\"text-align: right;\">\n",
       "      <th></th>\n",
       "      <th>0</th>\n",
       "      <th>1</th>\n",
       "      <th>2</th>\n",
       "      <th>3</th>\n",
       "      <th>4</th>\n",
       "      <th>5</th>\n",
       "      <th>6</th>\n",
       "      <th>7</th>\n",
       "      <th>8</th>\n",
       "      <th>9</th>\n",
       "      <th>...</th>\n",
       "      <th>290</th>\n",
       "      <th>291</th>\n",
       "      <th>292</th>\n",
       "      <th>293</th>\n",
       "      <th>294</th>\n",
       "      <th>295</th>\n",
       "      <th>296</th>\n",
       "      <th>297</th>\n",
       "      <th>298</th>\n",
       "      <th>299</th>\n",
       "    </tr>\n",
       "  </thead>\n",
       "  <tbody>\n",
       "    <tr>\n",
       "      <th>0</th>\n",
       "      <td>125.060</td>\n",
       "      <td>125.13</td>\n",
       "      <td>125.200</td>\n",
       "      <td>125.170</td>\n",
       "      <td>125.050</td>\n",
       "      <td>124.920</td>\n",
       "      <td>124.890</td>\n",
       "      <td>124.960</td>\n",
       "      <td>125.030</td>\n",
       "      <td>125.01</td>\n",
       "      <td>...</td>\n",
       "      <td>125.040</td>\n",
       "      <td>125.160</td>\n",
       "      <td>125.210</td>\n",
       "      <td>125.16</td>\n",
       "      <td>125.090</td>\n",
       "      <td>125.080</td>\n",
       "      <td>125.100</td>\n",
       "      <td>125.090</td>\n",
       "      <td>125.020</td>\n",
       "      <td>124.940</td>\n",
       "    </tr>\n",
       "    <tr>\n",
       "      <th>1</th>\n",
       "      <td>121.630</td>\n",
       "      <td>121.71</td>\n",
       "      <td>121.790</td>\n",
       "      <td>121.770</td>\n",
       "      <td>121.650</td>\n",
       "      <td>121.490</td>\n",
       "      <td>121.440</td>\n",
       "      <td>121.520</td>\n",
       "      <td>121.650</td>\n",
       "      <td>121.72</td>\n",
       "      <td>...</td>\n",
       "      <td>121.380</td>\n",
       "      <td>121.340</td>\n",
       "      <td>121.420</td>\n",
       "      <td>121.57</td>\n",
       "      <td>121.720</td>\n",
       "      <td>121.800</td>\n",
       "      <td>121.780</td>\n",
       "      <td>121.680</td>\n",
       "      <td>121.530</td>\n",
       "      <td>121.420</td>\n",
       "    </tr>\n",
       "    <tr>\n",
       "      <th>2</th>\n",
       "      <td>120.530</td>\n",
       "      <td>120.61</td>\n",
       "      <td>120.680</td>\n",
       "      <td>120.660</td>\n",
       "      <td>120.550</td>\n",
       "      <td>120.440</td>\n",
       "      <td>120.370</td>\n",
       "      <td>120.320</td>\n",
       "      <td>120.280</td>\n",
       "      <td>120.27</td>\n",
       "      <td>...</td>\n",
       "      <td>120.370</td>\n",
       "      <td>120.480</td>\n",
       "      <td>120.570</td>\n",
       "      <td>120.60</td>\n",
       "      <td>120.610</td>\n",
       "      <td>120.640</td>\n",
       "      <td>120.690</td>\n",
       "      <td>120.680</td>\n",
       "      <td>120.590</td>\n",
       "      <td>120.500</td>\n",
       "    </tr>\n",
       "    <tr>\n",
       "      <th>3</th>\n",
       "      <td>119.610</td>\n",
       "      <td>119.75</td>\n",
       "      <td>119.850</td>\n",
       "      <td>119.770</td>\n",
       "      <td>119.550</td>\n",
       "      <td>119.410</td>\n",
       "      <td>119.440</td>\n",
       "      <td>119.560</td>\n",
       "      <td>119.580</td>\n",
       "      <td>119.49</td>\n",
       "      <td>...</td>\n",
       "      <td>119.610</td>\n",
       "      <td>119.770</td>\n",
       "      <td>119.870</td>\n",
       "      <td>119.85</td>\n",
       "      <td>119.770</td>\n",
       "      <td>119.730</td>\n",
       "      <td>119.730</td>\n",
       "      <td>119.720</td>\n",
       "      <td>119.660</td>\n",
       "      <td>119.590</td>\n",
       "    </tr>\n",
       "    <tr>\n",
       "      <th>4</th>\n",
       "      <td>57.863</td>\n",
       "      <td>57.84</td>\n",
       "      <td>57.835</td>\n",
       "      <td>57.861</td>\n",
       "      <td>57.874</td>\n",
       "      <td>57.811</td>\n",
       "      <td>57.672</td>\n",
       "      <td>57.533</td>\n",
       "      <td>57.467</td>\n",
       "      <td>57.48</td>\n",
       "      <td>...</td>\n",
       "      <td>57.648</td>\n",
       "      <td>57.709</td>\n",
       "      <td>57.707</td>\n",
       "      <td>57.67</td>\n",
       "      <td>57.666</td>\n",
       "      <td>57.726</td>\n",
       "      <td>57.804</td>\n",
       "      <td>57.829</td>\n",
       "      <td>57.784</td>\n",
       "      <td>57.727</td>\n",
       "    </tr>\n",
       "    <tr>\n",
       "      <th>...</th>\n",
       "      <td>...</td>\n",
       "      <td>...</td>\n",
       "      <td>...</td>\n",
       "      <td>...</td>\n",
       "      <td>...</td>\n",
       "      <td>...</td>\n",
       "      <td>...</td>\n",
       "      <td>...</td>\n",
       "      <td>...</td>\n",
       "      <td>...</td>\n",
       "      <td>...</td>\n",
       "      <td>...</td>\n",
       "      <td>...</td>\n",
       "      <td>...</td>\n",
       "      <td>...</td>\n",
       "      <td>...</td>\n",
       "      <td>...</td>\n",
       "      <td>...</td>\n",
       "      <td>...</td>\n",
       "      <td>...</td>\n",
       "      <td>...</td>\n",
       "    </tr>\n",
       "    <tr>\n",
       "      <th>111</th>\n",
       "      <td>157.750</td>\n",
       "      <td>157.71</td>\n",
       "      <td>157.680</td>\n",
       "      <td>157.670</td>\n",
       "      <td>157.660</td>\n",
       "      <td>157.630</td>\n",
       "      <td>157.630</td>\n",
       "      <td>157.720</td>\n",
       "      <td>157.890</td>\n",
       "      <td>158.00</td>\n",
       "      <td>...</td>\n",
       "      <td>158.030</td>\n",
       "      <td>157.770</td>\n",
       "      <td>157.360</td>\n",
       "      <td>157.10</td>\n",
       "      <td>157.190</td>\n",
       "      <td>157.590</td>\n",
       "      <td>157.990</td>\n",
       "      <td>158.140</td>\n",
       "      <td>158.010</td>\n",
       "      <td>157.820</td>\n",
       "    </tr>\n",
       "    <tr>\n",
       "      <th>112</th>\n",
       "      <td>159.580</td>\n",
       "      <td>159.53</td>\n",
       "      <td>159.530</td>\n",
       "      <td>159.610</td>\n",
       "      <td>159.700</td>\n",
       "      <td>159.730</td>\n",
       "      <td>159.710</td>\n",
       "      <td>159.740</td>\n",
       "      <td>159.880</td>\n",
       "      <td>160.01</td>\n",
       "      <td>...</td>\n",
       "      <td>159.500</td>\n",
       "      <td>159.520</td>\n",
       "      <td>159.400</td>\n",
       "      <td>159.45</td>\n",
       "      <td>159.740</td>\n",
       "      <td>160.040</td>\n",
       "      <td>160.110</td>\n",
       "      <td>159.890</td>\n",
       "      <td>159.570</td>\n",
       "      <td>159.350</td>\n",
       "    </tr>\n",
       "    <tr>\n",
       "      <th>113</th>\n",
       "      <td>155.210</td>\n",
       "      <td>155.25</td>\n",
       "      <td>155.350</td>\n",
       "      <td>155.420</td>\n",
       "      <td>155.350</td>\n",
       "      <td>155.140</td>\n",
       "      <td>154.930</td>\n",
       "      <td>154.940</td>\n",
       "      <td>155.180</td>\n",
       "      <td>155.41</td>\n",
       "      <td>...</td>\n",
       "      <td>155.300</td>\n",
       "      <td>155.120</td>\n",
       "      <td>154.990</td>\n",
       "      <td>155.11</td>\n",
       "      <td>155.440</td>\n",
       "      <td>155.700</td>\n",
       "      <td>155.650</td>\n",
       "      <td>155.250</td>\n",
       "      <td>154.710</td>\n",
       "      <td>154.340</td>\n",
       "    </tr>\n",
       "    <tr>\n",
       "      <th>114</th>\n",
       "      <td>147.650</td>\n",
       "      <td>147.59</td>\n",
       "      <td>147.510</td>\n",
       "      <td>147.470</td>\n",
       "      <td>147.530</td>\n",
       "      <td>147.690</td>\n",
       "      <td>147.880</td>\n",
       "      <td>147.960</td>\n",
       "      <td>147.820</td>\n",
       "      <td>147.49</td>\n",
       "      <td>...</td>\n",
       "      <td>148.020</td>\n",
       "      <td>147.590</td>\n",
       "      <td>146.970</td>\n",
       "      <td>146.64</td>\n",
       "      <td>146.860</td>\n",
       "      <td>147.400</td>\n",
       "      <td>147.810</td>\n",
       "      <td>147.740</td>\n",
       "      <td>147.280</td>\n",
       "      <td>146.860</td>\n",
       "    </tr>\n",
       "    <tr>\n",
       "      <th>115</th>\n",
       "      <td>179.910</td>\n",
       "      <td>179.51</td>\n",
       "      <td>179.080</td>\n",
       "      <td>179.050</td>\n",
       "      <td>179.520</td>\n",
       "      <td>180.220</td>\n",
       "      <td>180.760</td>\n",
       "      <td>180.830</td>\n",
       "      <td>180.290</td>\n",
       "      <td>179.25</td>\n",
       "      <td>...</td>\n",
       "      <td>177.970</td>\n",
       "      <td>177.400</td>\n",
       "      <td>177.700</td>\n",
       "      <td>178.60</td>\n",
       "      <td>179.410</td>\n",
       "      <td>179.590</td>\n",
       "      <td>179.250</td>\n",
       "      <td>178.910</td>\n",
       "      <td>178.890</td>\n",
       "      <td>179.040</td>\n",
       "    </tr>\n",
       "  </tbody>\n",
       "</table>\n",
       "<p>116 rows × 300 columns</p>\n",
       "</div>"
      ],
      "text/plain": [
       "         0       1        2        3        4        5        6        7    \\\n",
       "0    125.060  125.13  125.200  125.170  125.050  124.920  124.890  124.960   \n",
       "1    121.630  121.71  121.790  121.770  121.650  121.490  121.440  121.520   \n",
       "2    120.530  120.61  120.680  120.660  120.550  120.440  120.370  120.320   \n",
       "3    119.610  119.75  119.850  119.770  119.550  119.410  119.440  119.560   \n",
       "4     57.863   57.84   57.835   57.861   57.874   57.811   57.672   57.533   \n",
       "..       ...     ...      ...      ...      ...      ...      ...      ...   \n",
       "111  157.750  157.71  157.680  157.670  157.660  157.630  157.630  157.720   \n",
       "112  159.580  159.53  159.530  159.610  159.700  159.730  159.710  159.740   \n",
       "113  155.210  155.25  155.350  155.420  155.350  155.140  154.930  154.940   \n",
       "114  147.650  147.59  147.510  147.470  147.530  147.690  147.880  147.960   \n",
       "115  179.910  179.51  179.080  179.050  179.520  180.220  180.760  180.830   \n",
       "\n",
       "         8       9    ...      290      291      292     293      294  \\\n",
       "0    125.030  125.01  ...  125.040  125.160  125.210  125.16  125.090   \n",
       "1    121.650  121.72  ...  121.380  121.340  121.420  121.57  121.720   \n",
       "2    120.280  120.27  ...  120.370  120.480  120.570  120.60  120.610   \n",
       "3    119.580  119.49  ...  119.610  119.770  119.870  119.85  119.770   \n",
       "4     57.467   57.48  ...   57.648   57.709   57.707   57.67   57.666   \n",
       "..       ...     ...  ...      ...      ...      ...     ...      ...   \n",
       "111  157.890  158.00  ...  158.030  157.770  157.360  157.10  157.190   \n",
       "112  159.880  160.01  ...  159.500  159.520  159.400  159.45  159.740   \n",
       "113  155.180  155.41  ...  155.300  155.120  154.990  155.11  155.440   \n",
       "114  147.820  147.49  ...  148.020  147.590  146.970  146.64  146.860   \n",
       "115  180.290  179.25  ...  177.970  177.400  177.700  178.60  179.410   \n",
       "\n",
       "         295      296      297      298      299  \n",
       "0    125.080  125.100  125.090  125.020  124.940  \n",
       "1    121.800  121.780  121.680  121.530  121.420  \n",
       "2    120.640  120.690  120.680  120.590  120.500  \n",
       "3    119.730  119.730  119.720  119.660  119.590  \n",
       "4     57.726   57.804   57.829   57.784   57.727  \n",
       "..       ...      ...      ...      ...      ...  \n",
       "111  157.590  157.990  158.140  158.010  157.820  \n",
       "112  160.040  160.110  159.890  159.570  159.350  \n",
       "113  155.700  155.650  155.250  154.710  154.340  \n",
       "114  147.400  147.810  147.740  147.280  146.860  \n",
       "115  179.590  179.250  178.910  178.890  179.040  \n",
       "\n",
       "[116 rows x 300 columns]"
      ]
     },
     "execution_count": 9,
     "metadata": {},
     "output_type": "execute_result"
    }
   ],
   "source": [
    "df_fc"
   ]
  },
  {
   "cell_type": "markdown",
   "id": "advance-sally",
   "metadata": {},
   "source": [
    "# 1. Kendall Tau Correlation "
   ]
  },
  {
   "cell_type": "markdown",
   "id": "insured-involvement",
   "metadata": {},
   "source": [
    "According to the article, we'll create the Kendall correlation matrix of the FC."
   ]
  },
  {
   "cell_type": "code",
   "execution_count": 10,
   "id": "alone-aerospace",
   "metadata": {
    "ExecuteTime": {
     "end_time": "2021-07-13T13:54:56.381960Z",
     "start_time": "2021-07-13T13:54:55.535466Z"
    }
   },
   "outputs": [
    {
     "data": {
      "text/plain": [
       "<AxesSubplot:>"
      ]
     },
     "execution_count": 10,
     "metadata": {},
     "output_type": "execute_result"
    },
    {
     "data": {
      "image/png": "[encoded data removed]",
      "text/plain": [
       "<Figure size 432x288 with 2 Axes>"
      ]
     },
     "metadata": {
      "needs_background": "light"
     },
     "output_type": "display_data"
    }
   ],
   "source": [
    "kendall_corrs = df_fc.T.corr(method='kendall')\n",
    "sns.heatmap(kendall_corrs)"
   ]
  },
  {
   "cell_type": "code",
   "execution_count": 197,
   "id": "surprised-adrian",
   "metadata": {
    "ExecuteTime": {
     "end_time": "2021-07-15T08:45:40.876689Z",
     "start_time": "2021-07-15T08:45:40.413492Z"
    }
   },
   "outputs": [
    {
     "data": {
      "text/plain": [
       "<AxesSubplot:>"
      ]
     },
     "execution_count": 197,
     "metadata": {},
     "output_type": "execute_result"
    },
    {
     "data": {
      "image/png": "[encoded data removed]",
      "text/plain": [
       "<Figure size 432x288 with 2 Axes>"
      ]
     },
     "metadata": {
      "needs_background": "light"
     },
     "output_type": "display_data"
    }
   ],
   "source": [
    "sns.heatmap(kendall_corrs.iloc[90:,90:])"
   ]
  },
  {
   "cell_type": "markdown",
   "id": "statutory-spread",
   "metadata": {},
   "source": [
    "Now let's see if there is a correlation between this matrix and th SC eigenvalues: "
   ]
  },
  {
   "cell_type": "code",
   "execution_count": 11,
   "id": "superior-summary",
   "metadata": {
    "ExecuteTime": {
     "end_time": "2021-07-13T13:54:56.421533Z",
     "start_time": "2021-07-13T13:54:56.383101Z"
    }
   },
   "outputs": [
    {
     "data": {
      "text/plain": [
       "(0.9488486264484826, 6.563612990730581e-59)"
      ]
     },
     "execution_count": 11,
     "metadata": {},
     "output_type": "execute_result"
    }
   ],
   "source": [
    "kendall_eigenvalues, kendall_eigenvectors = np.linalg.eig(kendall_corrs)\n",
    "sc_eigenvalues, sc_eigenvectors = np.linalg.eig(df_sc)\n",
    "stats.pearsonr(kendall_eigenvalues, sc_eigenvalues)"
   ]
  },
  {
   "cell_type": "code",
   "execution_count": 75,
   "id": "standard-pursuit",
   "metadata": {
    "ExecuteTime": {
     "end_time": "2021-07-13T20:28:04.209975Z",
     "start_time": "2021-07-13T20:28:04.132834Z"
    }
   },
   "outputs": [
    {
     "data": {
      "text/plain": [
       "(0.9495939206615133, 2.903580258374818e-59)"
      ]
     },
     "execution_count": 75,
     "metadata": {},
     "output_type": "execute_result"
    }
   ],
   "source": [
    "c_f_max = abs(kendall_corrs - np.eye(kendall_corrs.shape[0])).max().max()\n",
    "tau_mat = kendall_corrs.to_numpy()\n",
    "tau_mat[abs(tau_mat) < 0.05*c_f_max] = 0\n",
    "tau_eigenvalues, tau_eigenvectors = np.linalg.eig(tau_mat)\n",
    "stats.pearsonr(tau_eigenvalues, sc_eigenvalues)"
   ]
  },
  {
   "cell_type": "markdown",
   "id": "dutch-bibliography",
   "metadata": {},
   "source": [
    "0.95 correlation!  \n",
    "Let's find out if there's a correlation like this for the other subjects:"
   ]
  },
  {
   "cell_type": "code",
   "execution_count": 170,
   "id": "reduced-opening",
   "metadata": {
    "ExecuteTime": {
     "end_time": "2021-07-15T05:28:38.342577Z",
     "start_time": "2021-07-15T05:28:38.326431Z"
    }
   },
   "outputs": [],
   "source": [
    "def get_eigenvectors_corr(fc, sc, method='kendall'):\n",
    "    tau_mat = fc.T.corr(method=method).to_numpy()\n",
    "    \n",
    "    c_f_max = abs(tau_mat - np.eye(tau_mat.shape[0])).max()\n",
    "    tau_mat[abs(tau_mat) < 0.05*c_f_max] = 0\n",
    "    \n",
    "    kendall_eigenvalues, _ = np.linalg.eig(tau_mat)\n",
    "    sc_eigenvalues, _ = np.linalg.eig(sc)\n",
    "    return stats.pearsonr(kendall_eigenvalues, sc_eigenvalues)"
   ]
  },
  {
   "cell_type": "code",
   "execution_count": 184,
   "id": "suited-aluminum",
   "metadata": {
    "ExecuteTime": {
     "end_time": "2021-07-15T08:40:52.251718Z",
     "start_time": "2021-07-15T08:40:52.235941Z"
    }
   },
   "outputs": [
    {
     "data": {
      "text/plain": [
       "(116, 116)"
      ]
     },
     "execution_count": 184,
     "metadata": {},
     "output_type": "execute_result"
    }
   ],
   "source": [
    "tau_mat.shape"
   ]
  },
  {
   "cell_type": "code",
   "execution_count": 183,
   "id": "sharp-suite",
   "metadata": {
    "ExecuteTime": {
     "end_time": "2021-07-15T08:24:31.647004Z",
     "start_time": "2021-07-15T08:24:31.636111Z"
    }
   },
   "outputs": [
    {
     "data": {
      "text/plain": [
       "(116,)"
      ]
     },
     "execution_count": 183,
     "metadata": {},
     "output_type": "execute_result"
    }
   ],
   "source": [
    "sc_eigenvalues.shape"
   ]
  },
  {
   "cell_type": "code",
   "execution_count": 172,
   "id": "coordinated-paste",
   "metadata": {
    "ExecuteTime": {
     "end_time": "2021-07-15T05:30:44.552501Z",
     "start_time": "2021-07-15T05:30:44.532266Z"
    }
   },
   "outputs": [],
   "source": [
    "def get_eigenvectors_corr_wrapper(connectome, method='kendall'):\n",
    "    return get_eigenvectors_corr(connectome.FC, connectome.SC, method)"
   ]
  },
  {
   "cell_type": "code",
   "execution_count": 79,
   "id": "spanish-bumper",
   "metadata": {
    "ExecuteTime": {
     "end_time": "2021-07-13T20:34:59.106125Z",
     "start_time": "2021-07-13T20:34:18.481801Z"
    }
   },
   "outputs": [
    {
     "data": {
      "application/vnd.jupyter.widget-view+json": {
       "model_id": "2fd8c9d7078a425dbab63fe72fe8b33e",
       "version_major": 2,
       "version_minor": 0
      },
      "text/plain": [
       "  0%|          | 0/49 [00:00<?, ?it/s]"
      ]
     },
     "metadata": {},
     "output_type": "display_data"
    }
   ],
   "source": [
    "correlations = [get_eigenvectors_corr_wrapper(c)[0] for c in tqdm(connectomes.values())]"
   ]
  },
  {
   "cell_type": "code",
   "execution_count": 80,
   "id": "gothic-arrangement",
   "metadata": {
    "ExecuteTime": {
     "end_time": "2021-07-13T20:36:06.348785Z",
     "start_time": "2021-07-13T20:36:06.325272Z"
    },
    "collapsed": true
   },
   "outputs": [
    {
     "data": {
      "text/plain": [
       "[0.9186324413456316,\n",
       " 0.9658462938064937,\n",
       " 0.9810471133279618,\n",
       " 0.9895342362064198,\n",
       " 0.9906508192992172,\n",
       " 0.977174862206671,\n",
       " 0.985220620742536,\n",
       " 0.9825051532352423,\n",
       " 0.9870511454716573,\n",
       " 0.9881452129099373,\n",
       " 0.9869054926638702,\n",
       " 0.9783776650830235,\n",
       " 0.9892424279058971,\n",
       " 0.9854699469404726,\n",
       " 0.9902445160903742,\n",
       " 0.9836503701670405,\n",
       " 0.9325149548665624,\n",
       " 0.9251844529643147,\n",
       " 0.9273870735775515,\n",
       " 0.9898958463450627,\n",
       " 0.9582978035020177,\n",
       " 0.9898267386024711,\n",
       " 0.9790279347099756,\n",
       " 0.9440113396665685,\n",
       " 0.9770742838298606,\n",
       " 0.9742935265823184,\n",
       " 0.9703644674409733,\n",
       " 0.8920965084971596,\n",
       " 0.9728571978147539,\n",
       " 0.981625370578808,\n",
       " 0.9474763953737974,\n",
       " 0.9640138743508929,\n",
       " 0.9792096956426073,\n",
       " 0.9827808256851093,\n",
       " 0.9912758423008007,\n",
       " 0.9852746363646018,\n",
       " 0.9822435113183181,\n",
       " 0.9846507315172376,\n",
       " 0.9768984399811127,\n",
       " 0.9655089670165565,\n",
       " 0.9539046054376906,\n",
       " 0.970917974112563,\n",
       " 0.982158488989217,\n",
       " 0.9750216008485382,\n",
       " 0.9888659410011399,\n",
       " 0.9453512314560814,\n",
       " 0.9701173572037637,\n",
       " 0.9908991937956287,\n",
       " 0.9495939206615133]"
      ]
     },
     "execution_count": 80,
     "metadata": {},
     "output_type": "execute_result"
    }
   ],
   "source": [
    "correlations"
   ]
  },
  {
   "cell_type": "code",
   "execution_count": 81,
   "id": "civic-intervention",
   "metadata": {
    "ExecuteTime": {
     "end_time": "2021-07-13T20:36:27.990344Z",
     "start_time": "2021-07-13T20:36:27.963591Z"
    }
   },
   "outputs": [
    {
     "name": "stdout",
     "output_type": "stream",
     "text": [
      "corr mean:0.971026919376286, corr std:0.021903255928531165, corr_vec median:0.9790279347099756\n"
     ]
    }
   ],
   "source": [
    "corr_vec = np.array(correlations)\n",
    "print(f'corr mean:{corr_vec.mean()}, corr std:{corr_vec.std()}, corr_vec median:{np.median(corr_vec)}')"
   ]
  },
  {
   "cell_type": "code",
   "execution_count": 82,
   "id": "useful-reference",
   "metadata": {
    "ExecuteTime": {
     "end_time": "2021-07-13T21:33:41.231306Z",
     "start_time": "2021-07-13T20:36:39.448631Z"
    },
    "collapsed": true
   },
   "outputs": [
    {
     "data": {
      "application/vnd.jupyter.widget-view+json": {
       "model_id": "",
       "version_major": 2,
       "version_minor": 0
      },
      "text/plain": [
       "  0%|          | 0/49 [00:00<?, ?it/s]"
      ]
     },
     "metadata": {},
     "output_type": "display_data"
    },
    {
     "data": {
      "application/vnd.jupyter.widget-view+json": {
       "model_id": "",
       "version_major": 2,
       "version_minor": 0
      },
      "text/plain": [
       "  0%|          | 0/49 [00:00<?, ?it/s]"
      ]
     },
     "metadata": {},
     "output_type": "display_data"
    },
    {
     "data": {
      "application/vnd.jupyter.widget-view+json": {
       "model_id": "",
       "version_major": 2,
       "version_minor": 0
      },
      "text/plain": [
       "  0%|          | 0/49 [00:00<?, ?it/s]"
      ]
     },
     "metadata": {},
     "output_type": "display_data"
    },
    {
     "data": {
      "application/vnd.jupyter.widget-view+json": {
       "model_id": "",
       "version_major": 2,
       "version_minor": 0
      },
      "text/plain": [
       "  0%|          | 0/49 [00:00<?, ?it/s]"
      ]
     },
     "metadata": {},
     "output_type": "display_data"
    },
    {
     "data": {
      "application/vnd.jupyter.widget-view+json": {
       "model_id": "",
       "version_major": 2,
       "version_minor": 0
      },
      "text/plain": [
       "  0%|          | 0/49 [00:00<?, ?it/s]"
      ]
     },
     "metadata": {},
     "output_type": "display_data"
    },
    {
     "data": {
      "application/vnd.jupyter.widget-view+json": {
       "model_id": "",
       "version_major": 2,
       "version_minor": 0
      },
      "text/plain": [
       "  0%|          | 0/49 [00:00<?, ?it/s]"
      ]
     },
     "metadata": {},
     "output_type": "display_data"
    },
    {
     "data": {
      "application/vnd.jupyter.widget-view+json": {
       "model_id": "",
       "version_major": 2,
       "version_minor": 0
      },
      "text/plain": [
       "  0%|          | 0/49 [00:00<?, ?it/s]"
      ]
     },
     "metadata": {},
     "output_type": "display_data"
    },
    {
     "data": {
      "application/vnd.jupyter.widget-view+json": {
       "model_id": "",
       "version_major": 2,
       "version_minor": 0
      },
      "text/plain": [
       "  0%|          | 0/49 [00:00<?, ?it/s]"
      ]
     },
     "metadata": {},
     "output_type": "display_data"
    },
    {
     "data": {
      "application/vnd.jupyter.widget-view+json": {
       "model_id": "",
       "version_major": 2,
       "version_minor": 0
      },
      "text/plain": [
       "  0%|          | 0/49 [00:00<?, ?it/s]"
      ]
     },
     "metadata": {},
     "output_type": "display_data"
    },
    {
     "data": {
      "application/vnd.jupyter.widget-view+json": {
       "model_id": "",
       "version_major": 2,
       "version_minor": 0
      },
      "text/plain": [
       "  0%|          | 0/49 [00:00<?, ?it/s]"
      ]
     },
     "metadata": {},
     "output_type": "display_data"
    },
    {
     "data": {
      "application/vnd.jupyter.widget-view+json": {
       "model_id": "",
       "version_major": 2,
       "version_minor": 0
      },
      "text/plain": [
       "  0%|          | 0/49 [00:00<?, ?it/s]"
      ]
     },
     "metadata": {},
     "output_type": "display_data"
    },
    {
     "data": {
      "application/vnd.jupyter.widget-view+json": {
       "model_id": "",
       "version_major": 2,
       "version_minor": 0
      },
      "text/plain": [
       "  0%|          | 0/49 [00:00<?, ?it/s]"
      ]
     },
     "metadata": {},
     "output_type": "display_data"
    },
    {
     "data": {
      "application/vnd.jupyter.widget-view+json": {
       "model_id": "",
       "version_major": 2,
       "version_minor": 0
      },
      "text/plain": [
       "  0%|          | 0/49 [00:00<?, ?it/s]"
      ]
     },
     "metadata": {},
     "output_type": "display_data"
    },
    {
     "data": {
      "application/vnd.jupyter.widget-view+json": {
       "model_id": "",
       "version_major": 2,
       "version_minor": 0
      },
      "text/plain": [
       "  0%|          | 0/49 [00:00<?, ?it/s]"
      ]
     },
     "metadata": {},
     "output_type": "display_data"
    },
    {
     "data": {
      "application/vnd.jupyter.widget-view+json": {
       "model_id": "",
       "version_major": 2,
       "version_minor": 0
      },
      "text/plain": [
       "  0%|          | 0/49 [00:00<?, ?it/s]"
      ]
     },
     "metadata": {},
     "output_type": "display_data"
    },
    {
     "data": {
      "application/vnd.jupyter.widget-view+json": {
       "model_id": "",
       "version_major": 2,
       "version_minor": 0
      },
      "text/plain": [
       "  0%|          | 0/49 [00:00<?, ?it/s]"
      ]
     },
     "metadata": {},
     "output_type": "display_data"
    },
    {
     "data": {
      "application/vnd.jupyter.widget-view+json": {
       "model_id": "",
       "version_major": 2,
       "version_minor": 0
      },
      "text/plain": [
       "  0%|          | 0/49 [00:00<?, ?it/s]"
      ]
     },
     "metadata": {},
     "output_type": "display_data"
    },
    {
     "data": {
      "application/vnd.jupyter.widget-view+json": {
       "model_id": "",
       "version_major": 2,
       "version_minor": 0
      },
      "text/plain": [
       "  0%|          | 0/49 [00:00<?, ?it/s]"
      ]
     },
     "metadata": {},
     "output_type": "display_data"
    },
    {
     "data": {
      "application/vnd.jupyter.widget-view+json": {
       "model_id": "",
       "version_major": 2,
       "version_minor": 0
      },
      "text/plain": [
       "  0%|          | 0/49 [00:00<?, ?it/s]"
      ]
     },
     "metadata": {},
     "output_type": "display_data"
    },
    {
     "data": {
      "application/vnd.jupyter.widget-view+json": {
       "model_id": "",
       "version_major": 2,
       "version_minor": 0
      },
      "text/plain": [
       "  0%|          | 0/49 [00:00<?, ?it/s]"
      ]
     },
     "metadata": {},
     "output_type": "display_data"
    },
    {
     "data": {
      "application/vnd.jupyter.widget-view+json": {
       "model_id": "",
       "version_major": 2,
       "version_minor": 0
      },
      "text/plain": [
       "  0%|          | 0/49 [00:00<?, ?it/s]"
      ]
     },
     "metadata": {},
     "output_type": "display_data"
    },
    {
     "data": {
      "application/vnd.jupyter.widget-view+json": {
       "model_id": "",
       "version_major": 2,
       "version_minor": 0
      },
      "text/plain": [
       "  0%|          | 0/49 [00:00<?, ?it/s]"
      ]
     },
     "metadata": {},
     "output_type": "display_data"
    },
    {
     "data": {
      "application/vnd.jupyter.widget-view+json": {
       "model_id": "",
       "version_major": 2,
       "version_minor": 0
      },
      "text/plain": [
       "  0%|          | 0/49 [00:00<?, ?it/s]"
      ]
     },
     "metadata": {},
     "output_type": "display_data"
    },
    {
     "data": {
      "application/vnd.jupyter.widget-view+json": {
       "model_id": "",
       "version_major": 2,
       "version_minor": 0
      },
      "text/plain": [
       "  0%|          | 0/49 [00:00<?, ?it/s]"
      ]
     },
     "metadata": {},
     "output_type": "display_data"
    },
    {
     "data": {
      "application/vnd.jupyter.widget-view+json": {
       "model_id": "",
       "version_major": 2,
       "version_minor": 0
      },
      "text/plain": [
       "  0%|          | 0/49 [00:00<?, ?it/s]"
      ]
     },
     "metadata": {},
     "output_type": "display_data"
    },
    {
     "data": {
      "application/vnd.jupyter.widget-view+json": {
       "model_id": "",
       "version_major": 2,
       "version_minor": 0
      },
      "text/plain": [
       "  0%|          | 0/49 [00:00<?, ?it/s]"
      ]
     },
     "metadata": {},
     "output_type": "display_data"
    },
    {
     "data": {
      "application/vnd.jupyter.widget-view+json": {
       "model_id": "",
       "version_major": 2,
       "version_minor": 0
      },
      "text/plain": [
       "  0%|          | 0/49 [00:00<?, ?it/s]"
      ]
     },
     "metadata": {},
     "output_type": "display_data"
    },
    {
     "data": {
      "application/vnd.jupyter.widget-view+json": {
       "model_id": "",
       "version_major": 2,
       "version_minor": 0
      },
      "text/plain": [
       "  0%|          | 0/49 [00:00<?, ?it/s]"
      ]
     },
     "metadata": {},
     "output_type": "display_data"
    },
    {
     "data": {
      "application/vnd.jupyter.widget-view+json": {
       "model_id": "",
       "version_major": 2,
       "version_minor": 0
      },
      "text/plain": [
       "  0%|          | 0/49 [00:00<?, ?it/s]"
      ]
     },
     "metadata": {},
     "output_type": "display_data"
    },
    {
     "data": {
      "application/vnd.jupyter.widget-view+json": {
       "model_id": "",
       "version_major": 2,
       "version_minor": 0
      },
      "text/plain": [
       "  0%|          | 0/49 [00:00<?, ?it/s]"
      ]
     },
     "metadata": {},
     "output_type": "display_data"
    },
    {
     "data": {
      "application/vnd.jupyter.widget-view+json": {
       "model_id": "",
       "version_major": 2,
       "version_minor": 0
      },
      "text/plain": [
       "  0%|          | 0/49 [00:00<?, ?it/s]"
      ]
     },
     "metadata": {},
     "output_type": "display_data"
    },
    {
     "data": {
      "application/vnd.jupyter.widget-view+json": {
       "model_id": "",
       "version_major": 2,
       "version_minor": 0
      },
      "text/plain": [
       "  0%|          | 0/49 [00:00<?, ?it/s]"
      ]
     },
     "metadata": {},
     "output_type": "display_data"
    },
    {
     "data": {
      "application/vnd.jupyter.widget-view+json": {
       "model_id": "",
       "version_major": 2,
       "version_minor": 0
      },
      "text/plain": [
       "  0%|          | 0/49 [00:00<?, ?it/s]"
      ]
     },
     "metadata": {},
     "output_type": "display_data"
    },
    {
     "data": {
      "application/vnd.jupyter.widget-view+json": {
       "model_id": "",
       "version_major": 2,
       "version_minor": 0
      },
      "text/plain": [
       "  0%|          | 0/49 [00:00<?, ?it/s]"
      ]
     },
     "metadata": {},
     "output_type": "display_data"
    },
    {
     "data": {
      "application/vnd.jupyter.widget-view+json": {
       "model_id": "",
       "version_major": 2,
       "version_minor": 0
      },
      "text/plain": [
       "  0%|          | 0/49 [00:00<?, ?it/s]"
      ]
     },
     "metadata": {},
     "output_type": "display_data"
    },
    {
     "data": {
      "application/vnd.jupyter.widget-view+json": {
       "model_id": "",
       "version_major": 2,
       "version_minor": 0
      },
      "text/plain": [
       "  0%|          | 0/49 [00:00<?, ?it/s]"
      ]
     },
     "metadata": {},
     "output_type": "display_data"
    },
    {
     "data": {
      "application/vnd.jupyter.widget-view+json": {
       "model_id": "",
       "version_major": 2,
       "version_minor": 0
      },
      "text/plain": [
       "  0%|          | 0/49 [00:00<?, ?it/s]"
      ]
     },
     "metadata": {},
     "output_type": "display_data"
    },
    {
     "data": {
      "application/vnd.jupyter.widget-view+json": {
       "model_id": "",
       "version_major": 2,
       "version_minor": 0
      },
      "text/plain": [
       "  0%|          | 0/49 [00:00<?, ?it/s]"
      ]
     },
     "metadata": {},
     "output_type": "display_data"
    },
    {
     "data": {
      "application/vnd.jupyter.widget-view+json": {
       "model_id": "",
       "version_major": 2,
       "version_minor": 0
      },
      "text/plain": [
       "  0%|          | 0/49 [00:00<?, ?it/s]"
      ]
     },
     "metadata": {},
     "output_type": "display_data"
    },
    {
     "data": {
      "application/vnd.jupyter.widget-view+json": {
       "model_id": "",
       "version_major": 2,
       "version_minor": 0
      },
      "text/plain": [
       "  0%|          | 0/49 [00:00<?, ?it/s]"
      ]
     },
     "metadata": {},
     "output_type": "display_data"
    },
    {
     "data": {
      "application/vnd.jupyter.widget-view+json": {
       "model_id": "",
       "version_major": 2,
       "version_minor": 0
      },
      "text/plain": [
       "  0%|          | 0/49 [00:00<?, ?it/s]"
      ]
     },
     "metadata": {},
     "output_type": "display_data"
    },
    {
     "data": {
      "application/vnd.jupyter.widget-view+json": {
       "model_id": "",
       "version_major": 2,
       "version_minor": 0
      },
      "text/plain": [
       "  0%|          | 0/49 [00:00<?, ?it/s]"
      ]
     },
     "metadata": {},
     "output_type": "display_data"
    },
    {
     "data": {
      "application/vnd.jupyter.widget-view+json": {
       "model_id": "",
       "version_major": 2,
       "version_minor": 0
      },
      "text/plain": [
       "  0%|          | 0/49 [00:00<?, ?it/s]"
      ]
     },
     "metadata": {},
     "output_type": "display_data"
    },
    {
     "data": {
      "application/vnd.jupyter.widget-view+json": {
       "model_id": "",
       "version_major": 2,
       "version_minor": 0
      },
      "text/plain": [
       "  0%|          | 0/49 [00:00<?, ?it/s]"
      ]
     },
     "metadata": {},
     "output_type": "display_data"
    },
    {
     "data": {
      "application/vnd.jupyter.widget-view+json": {
       "model_id": "",
       "version_major": 2,
       "version_minor": 0
      },
      "text/plain": [
       "  0%|          | 0/49 [00:00<?, ?it/s]"
      ]
     },
     "metadata": {},
     "output_type": "display_data"
    },
    {
     "data": {
      "application/vnd.jupyter.widget-view+json": {
       "model_id": "",
       "version_major": 2,
       "version_minor": 0
      },
      "text/plain": [
       "  0%|          | 0/49 [00:00<?, ?it/s]"
      ]
     },
     "metadata": {},
     "output_type": "display_data"
    },
    {
     "data": {
      "application/vnd.jupyter.widget-view+json": {
       "model_id": "",
       "version_major": 2,
       "version_minor": 0
      },
      "text/plain": [
       "  0%|          | 0/49 [00:00<?, ?it/s]"
      ]
     },
     "metadata": {},
     "output_type": "display_data"
    },
    {
     "data": {
      "application/vnd.jupyter.widget-view+json": {
       "model_id": "",
       "version_major": 2,
       "version_minor": 0
      },
      "text/plain": [
       "  0%|          | 0/49 [00:00<?, ?it/s]"
      ]
     },
     "metadata": {},
     "output_type": "display_data"
    },
    {
     "data": {
      "application/vnd.jupyter.widget-view+json": {
       "model_id": "",
       "version_major": 2,
       "version_minor": 0
      },
      "text/plain": [
       "  0%|          | 0/49 [00:00<?, ?it/s]"
      ]
     },
     "metadata": {},
     "output_type": "display_data"
    },
    {
     "data": {
      "application/vnd.jupyter.widget-view+json": {
       "model_id": "",
       "version_major": 2,
       "version_minor": 0
      },
      "text/plain": [
       "  0%|          | 0/49 [00:00<?, ?it/s]"
      ]
     },
     "metadata": {},
     "output_type": "display_data"
    }
   ],
   "source": [
    "corr_matrix = [[get_eigenvectors_corr(c1.FC, c2.SC)[0] \n",
    "                for c1 in tqdm(connectomes.values(), leave=False)] \n",
    "               for c2 in tqdm(connectomes.values())]\n",
    "corr_matrix = np.array(corr_matrix)"
   ]
  },
  {
   "cell_type": "code",
   "execution_count": 83,
   "id": "hidden-interpretation",
   "metadata": {
    "ExecuteTime": {
     "end_time": "2021-07-13T21:33:45.623352Z",
     "start_time": "2021-07-13T21:33:45.293344Z"
    },
    "scrolled": true
   },
   "outputs": [
    {
     "data": {
      "text/plain": [
       "<AxesSubplot:>"
      ]
     },
     "execution_count": 83,
     "metadata": {},
     "output_type": "execute_result"
    },
    {
     "data": {
      "image/png": "[encoded data removed]",
      "text/plain": [
       "<Figure size 432x288 with 2 Axes>"
      ]
     },
     "metadata": {
      "needs_background": "light"
     },
     "output_type": "display_data"
    }
   ],
   "source": [
    "sns.heatmap(corr_matrix)"
   ]
  },
  {
   "cell_type": "code",
   "execution_count": 84,
   "id": "everyday-geography",
   "metadata": {
    "ExecuteTime": {
     "end_time": "2021-07-13T21:34:19.513858Z",
     "start_time": "2021-07-13T21:34:19.504923Z"
    }
   },
   "outputs": [
    {
     "data": {
      "text/plain": [
       "array([0.91863244, 0.96584629, 0.98104711, 0.98953424, 0.99065082,\n",
       "       0.97717486, 0.98522062, 0.98250515, 0.98705115, 0.98814521,\n",
       "       0.98690549, 0.97837767, 0.98924243, 0.98546995, 0.99024452,\n",
       "       0.98365037, 0.93251495, 0.92518445, 0.92738707, 0.98989585,\n",
       "       0.9582978 , 0.98982674, 0.97902793, 0.94401134, 0.97707428,\n",
       "       0.97429353, 0.97036447, 0.89209651, 0.9728572 , 0.98162537,\n",
       "       0.9474764 , 0.96401387, 0.9792097 , 0.98278083, 0.99127584,\n",
       "       0.98527464, 0.98224351, 0.98465073, 0.97689844, 0.96550897,\n",
       "       0.95390461, 0.97091797, 0.98215849, 0.9750216 , 0.98886594,\n",
       "       0.94535123, 0.97011736, 0.99089919, 0.94959392])"
      ]
     },
     "execution_count": 84,
     "metadata": {},
     "output_type": "execute_result"
    }
   ],
   "source": [
    "corr_matrix.diagonal()"
   ]
  },
  {
   "cell_type": "code",
   "execution_count": 85,
   "id": "utility-worcester",
   "metadata": {
    "ExecuteTime": {
     "end_time": "2021-07-13T21:34:24.211918Z",
     "start_time": "2021-07-13T21:34:24.191970Z"
    }
   },
   "outputs": [
    {
     "data": {
      "text/plain": [
       "array([-0.0583841 , -0.0012079 ,  0.00596921,  0.01737564,  0.01076355,\n",
       "        0.00851823,  0.01274909,  0.0034049 ,  0.00730686,  0.00995454,\n",
       "        0.01623458,  0.00471553,  0.01365553,  0.00694957,  0.02227498,\n",
       "        0.01505259, -0.03603014, -0.03271668, -0.04251285,  0.01272742,\n",
       "       -0.01498904,  0.01207705,  0.00245611, -0.00759972,  0.00230886,\n",
       "        0.00608602, -0.00211866, -0.06885074,  0.00909666,  0.01271649,\n",
       "       -0.02317394, -0.0039665 , -0.00047263,  0.02443583,  0.01274054,\n",
       "        0.00326279,  0.02002362,  0.01595246,  0.00154478, -0.01472565,\n",
       "        0.00084303, -0.00218865,  0.01316506,  0.0082181 ,  0.00649617,\n",
       "       -0.02987597, -0.00386476,  0.01631046, -0.02182202])"
      ]
     },
     "execution_count": 85,
     "metadata": {},
     "output_type": "execute_result"
    }
   ],
   "source": [
    "corr_matrix.diagonal() - corr_matrix.mean(axis=1)"
   ]
  },
  {
   "cell_type": "markdown",
   "id": "annual-importance",
   "metadata": {},
   "source": [
    "And let's check for pearson:"
   ]
  },
  {
   "cell_type": "code",
   "execution_count": 173,
   "id": "mexican-conducting",
   "metadata": {
    "ExecuteTime": {
     "end_time": "2021-07-15T05:30:52.476086Z",
     "start_time": "2021-07-15T05:30:50.500322Z"
    }
   },
   "outputs": [
    {
     "data": {
      "application/vnd.jupyter.widget-view+json": {
       "model_id": "17da61e515ea4ce99f51d9a1f73054e3",
       "version_major": 2,
       "version_minor": 0
      },
      "text/plain": [
       "  0%|          | 0/49 [00:00<?, ?it/s]"
      ]
     },
     "metadata": {},
     "output_type": "display_data"
    }
   ],
   "source": [
    "correlations_pearson = [get_eigenvectors_corr_wrapper(c, 'pearson')[0] for c in tqdm(connectomes.values())]"
   ]
  },
  {
   "cell_type": "code",
   "execution_count": 174,
   "id": "clinical-uncertainty",
   "metadata": {
    "ExecuteTime": {
     "end_time": "2021-07-15T05:31:19.940925Z",
     "start_time": "2021-07-15T05:31:19.926156Z"
    }
   },
   "outputs": [
    {
     "name": "stdout",
     "output_type": "stream",
     "text": [
      "corr mean:0.9697933784070097, corr std:0.02338786997011674, corr_vec median:0.9792104415669468\n"
     ]
    }
   ],
   "source": [
    "corr_vec_p = np.array(correlations_pearson)\n",
    "print(f'corr mean:{corr_vec_p.mean()}, corr std:{corr_vec_p.std()}, corr_vec median:{np.median(corr_vec_p)}')"
   ]
  },
  {
   "cell_type": "code",
   "execution_count": 175,
   "id": "friendly-fight",
   "metadata": {
    "ExecuteTime": {
     "end_time": "2021-07-15T05:33:43.243468Z",
     "start_time": "2021-07-15T05:32:04.677904Z"
    },
    "collapsed": true
   },
   "outputs": [
    {
     "data": {
      "application/vnd.jupyter.widget-view+json": {
       "model_id": "ef14c202d25d4a8aab1ea84fec445476",
       "version_major": 2,
       "version_minor": 0
      },
      "text/plain": [
       "  0%|          | 0/49 [00:00<?, ?it/s]"
      ]
     },
     "metadata": {},
     "output_type": "display_data"
    },
    {
     "data": {
      "application/vnd.jupyter.widget-view+json": {
       "model_id": "",
       "version_major": 2,
       "version_minor": 0
      },
      "text/plain": [
       "  0%|          | 0/49 [00:00<?, ?it/s]"
      ]
     },
     "metadata": {},
     "output_type": "display_data"
    },
    {
     "data": {
      "application/vnd.jupyter.widget-view+json": {
       "model_id": "",
       "version_major": 2,
       "version_minor": 0
      },
      "text/plain": [
       "  0%|          | 0/49 [00:00<?, ?it/s]"
      ]
     },
     "metadata": {},
     "output_type": "display_data"
    },
    {
     "data": {
      "application/vnd.jupyter.widget-view+json": {
       "model_id": "",
       "version_major": 2,
       "version_minor": 0
      },
      "text/plain": [
       "  0%|          | 0/49 [00:00<?, ?it/s]"
      ]
     },
     "metadata": {},
     "output_type": "display_data"
    },
    {
     "data": {
      "application/vnd.jupyter.widget-view+json": {
       "model_id": "",
       "version_major": 2,
       "version_minor": 0
      },
      "text/plain": [
       "  0%|          | 0/49 [00:00<?, ?it/s]"
      ]
     },
     "metadata": {},
     "output_type": "display_data"
    },
    {
     "data": {
      "application/vnd.jupyter.widget-view+json": {
       "model_id": "",
       "version_major": 2,
       "version_minor": 0
      },
      "text/plain": [
       "  0%|          | 0/49 [00:00<?, ?it/s]"
      ]
     },
     "metadata": {},
     "output_type": "display_data"
    },
    {
     "data": {
      "application/vnd.jupyter.widget-view+json": {
       "model_id": "",
       "version_major": 2,
       "version_minor": 0
      },
      "text/plain": [
       "  0%|          | 0/49 [00:00<?, ?it/s]"
      ]
     },
     "metadata": {},
     "output_type": "display_data"
    },
    {
     "data": {
      "application/vnd.jupyter.widget-view+json": {
       "model_id": "",
       "version_major": 2,
       "version_minor": 0
      },
      "text/plain": [
       "  0%|          | 0/49 [00:00<?, ?it/s]"
      ]
     },
     "metadata": {},
     "output_type": "display_data"
    },
    {
     "data": {
      "application/vnd.jupyter.widget-view+json": {
       "model_id": "",
       "version_major": 2,
       "version_minor": 0
      },
      "text/plain": [
       "  0%|          | 0/49 [00:00<?, ?it/s]"
      ]
     },
     "metadata": {},
     "output_type": "display_data"
    },
    {
     "data": {
      "application/vnd.jupyter.widget-view+json": {
       "model_id": "",
       "version_major": 2,
       "version_minor": 0
      },
      "text/plain": [
       "  0%|          | 0/49 [00:00<?, ?it/s]"
      ]
     },
     "metadata": {},
     "output_type": "display_data"
    },
    {
     "data": {
      "application/vnd.jupyter.widget-view+json": {
       "model_id": "",
       "version_major": 2,
       "version_minor": 0
      },
      "text/plain": [
       "  0%|          | 0/49 [00:00<?, ?it/s]"
      ]
     },
     "metadata": {},
     "output_type": "display_data"
    },
    {
     "data": {
      "application/vnd.jupyter.widget-view+json": {
       "model_id": "",
       "version_major": 2,
       "version_minor": 0
      },
      "text/plain": [
       "  0%|          | 0/49 [00:00<?, ?it/s]"
      ]
     },
     "metadata": {},
     "output_type": "display_data"
    },
    {
     "data": {
      "application/vnd.jupyter.widget-view+json": {
       "model_id": "",
       "version_major": 2,
       "version_minor": 0
      },
      "text/plain": [
       "  0%|          | 0/49 [00:00<?, ?it/s]"
      ]
     },
     "metadata": {},
     "output_type": "display_data"
    },
    {
     "data": {
      "application/vnd.jupyter.widget-view+json": {
       "model_id": "",
       "version_major": 2,
       "version_minor": 0
      },
      "text/plain": [
       "  0%|          | 0/49 [00:00<?, ?it/s]"
      ]
     },
     "metadata": {},
     "output_type": "display_data"
    },
    {
     "data": {
      "application/vnd.jupyter.widget-view+json": {
       "model_id": "",
       "version_major": 2,
       "version_minor": 0
      },
      "text/plain": [
       "  0%|          | 0/49 [00:00<?, ?it/s]"
      ]
     },
     "metadata": {},
     "output_type": "display_data"
    },
    {
     "data": {
      "application/vnd.jupyter.widget-view+json": {
       "model_id": "",
       "version_major": 2,
       "version_minor": 0
      },
      "text/plain": [
       "  0%|          | 0/49 [00:00<?, ?it/s]"
      ]
     },
     "metadata": {},
     "output_type": "display_data"
    },
    {
     "data": {
      "application/vnd.jupyter.widget-view+json": {
       "model_id": "",
       "version_major": 2,
       "version_minor": 0
      },
      "text/plain": [
       "  0%|          | 0/49 [00:00<?, ?it/s]"
      ]
     },
     "metadata": {},
     "output_type": "display_data"
    },
    {
     "data": {
      "application/vnd.jupyter.widget-view+json": {
       "model_id": "",
       "version_major": 2,
       "version_minor": 0
      },
      "text/plain": [
       "  0%|          | 0/49 [00:00<?, ?it/s]"
      ]
     },
     "metadata": {},
     "output_type": "display_data"
    },
    {
     "data": {
      "application/vnd.jupyter.widget-view+json": {
       "model_id": "",
       "version_major": 2,
       "version_minor": 0
      },
      "text/plain": [
       "  0%|          | 0/49 [00:00<?, ?it/s]"
      ]
     },
     "metadata": {},
     "output_type": "display_data"
    },
    {
     "data": {
      "application/vnd.jupyter.widget-view+json": {
       "model_id": "",
       "version_major": 2,
       "version_minor": 0
      },
      "text/plain": [
       "  0%|          | 0/49 [00:00<?, ?it/s]"
      ]
     },
     "metadata": {},
     "output_type": "display_data"
    },
    {
     "data": {
      "application/vnd.jupyter.widget-view+json": {
       "model_id": "",
       "version_major": 2,
       "version_minor": 0
      },
      "text/plain": [
       "  0%|          | 0/49 [00:00<?, ?it/s]"
      ]
     },
     "metadata": {},
     "output_type": "display_data"
    },
    {
     "data": {
      "application/vnd.jupyter.widget-view+json": {
       "model_id": "",
       "version_major": 2,
       "version_minor": 0
      },
      "text/plain": [
       "  0%|          | 0/49 [00:00<?, ?it/s]"
      ]
     },
     "metadata": {},
     "output_type": "display_data"
    },
    {
     "data": {
      "application/vnd.jupyter.widget-view+json": {
       "model_id": "",
       "version_major": 2,
       "version_minor": 0
      },
      "text/plain": [
       "  0%|          | 0/49 [00:00<?, ?it/s]"
      ]
     },
     "metadata": {},
     "output_type": "display_data"
    },
    {
     "data": {
      "application/vnd.jupyter.widget-view+json": {
       "model_id": "",
       "version_major": 2,
       "version_minor": 0
      },
      "text/plain": [
       "  0%|          | 0/49 [00:00<?, ?it/s]"
      ]
     },
     "metadata": {},
     "output_type": "display_data"
    },
    {
     "data": {
      "application/vnd.jupyter.widget-view+json": {
       "model_id": "",
       "version_major": 2,
       "version_minor": 0
      },
      "text/plain": [
       "  0%|          | 0/49 [00:00<?, ?it/s]"
      ]
     },
     "metadata": {},
     "output_type": "display_data"
    },
    {
     "data": {
      "application/vnd.jupyter.widget-view+json": {
       "model_id": "",
       "version_major": 2,
       "version_minor": 0
      },
      "text/plain": [
       "  0%|          | 0/49 [00:00<?, ?it/s]"
      ]
     },
     "metadata": {},
     "output_type": "display_data"
    },
    {
     "data": {
      "application/vnd.jupyter.widget-view+json": {
       "model_id": "",
       "version_major": 2,
       "version_minor": 0
      },
      "text/plain": [
       "  0%|          | 0/49 [00:00<?, ?it/s]"
      ]
     },
     "metadata": {},
     "output_type": "display_data"
    },
    {
     "data": {
      "application/vnd.jupyter.widget-view+json": {
       "model_id": "",
       "version_major": 2,
       "version_minor": 0
      },
      "text/plain": [
       "  0%|          | 0/49 [00:00<?, ?it/s]"
      ]
     },
     "metadata": {},
     "output_type": "display_data"
    },
    {
     "data": {
      "application/vnd.jupyter.widget-view+json": {
       "model_id": "",
       "version_major": 2,
       "version_minor": 0
      },
      "text/plain": [
       "  0%|          | 0/49 [00:00<?, ?it/s]"
      ]
     },
     "metadata": {},
     "output_type": "display_data"
    },
    {
     "data": {
      "application/vnd.jupyter.widget-view+json": {
       "model_id": "",
       "version_major": 2,
       "version_minor": 0
      },
      "text/plain": [
       "  0%|          | 0/49 [00:00<?, ?it/s]"
      ]
     },
     "metadata": {},
     "output_type": "display_data"
    },
    {
     "data": {
      "application/vnd.jupyter.widget-view+json": {
       "model_id": "",
       "version_major": 2,
       "version_minor": 0
      },
      "text/plain": [
       "  0%|          | 0/49 [00:00<?, ?it/s]"
      ]
     },
     "metadata": {},
     "output_type": "display_data"
    },
    {
     "data": {
      "application/vnd.jupyter.widget-view+json": {
       "model_id": "",
       "version_major": 2,
       "version_minor": 0
      },
      "text/plain": [
       "  0%|          | 0/49 [00:00<?, ?it/s]"
      ]
     },
     "metadata": {},
     "output_type": "display_data"
    },
    {
     "data": {
      "application/vnd.jupyter.widget-view+json": {
       "model_id": "",
       "version_major": 2,
       "version_minor": 0
      },
      "text/plain": [
       "  0%|          | 0/49 [00:00<?, ?it/s]"
      ]
     },
     "metadata": {},
     "output_type": "display_data"
    },
    {
     "data": {
      "application/vnd.jupyter.widget-view+json": {
       "model_id": "",
       "version_major": 2,
       "version_minor": 0
      },
      "text/plain": [
       "  0%|          | 0/49 [00:00<?, ?it/s]"
      ]
     },
     "metadata": {},
     "output_type": "display_data"
    },
    {
     "data": {
      "application/vnd.jupyter.widget-view+json": {
       "model_id": "",
       "version_major": 2,
       "version_minor": 0
      },
      "text/plain": [
       "  0%|          | 0/49 [00:00<?, ?it/s]"
      ]
     },
     "metadata": {},
     "output_type": "display_data"
    },
    {
     "data": {
      "application/vnd.jupyter.widget-view+json": {
       "model_id": "",
       "version_major": 2,
       "version_minor": 0
      },
      "text/plain": [
       "  0%|          | 0/49 [00:00<?, ?it/s]"
      ]
     },
     "metadata": {},
     "output_type": "display_data"
    },
    {
     "data": {
      "application/vnd.jupyter.widget-view+json": {
       "model_id": "",
       "version_major": 2,
       "version_minor": 0
      },
      "text/plain": [
       "  0%|          | 0/49 [00:00<?, ?it/s]"
      ]
     },
     "metadata": {},
     "output_type": "display_data"
    },
    {
     "data": {
      "application/vnd.jupyter.widget-view+json": {
       "model_id": "",
       "version_major": 2,
       "version_minor": 0
      },
      "text/plain": [
       "  0%|          | 0/49 [00:00<?, ?it/s]"
      ]
     },
     "metadata": {},
     "output_type": "display_data"
    },
    {
     "data": {
      "application/vnd.jupyter.widget-view+json": {
       "model_id": "",
       "version_major": 2,
       "version_minor": 0
      },
      "text/plain": [
       "  0%|          | 0/49 [00:00<?, ?it/s]"
      ]
     },
     "metadata": {},
     "output_type": "display_data"
    },
    {
     "data": {
      "application/vnd.jupyter.widget-view+json": {
       "model_id": "",
       "version_major": 2,
       "version_minor": 0
      },
      "text/plain": [
       "  0%|          | 0/49 [00:00<?, ?it/s]"
      ]
     },
     "metadata": {},
     "output_type": "display_data"
    },
    {
     "data": {
      "application/vnd.jupyter.widget-view+json": {
       "model_id": "",
       "version_major": 2,
       "version_minor": 0
      },
      "text/plain": [
       "  0%|          | 0/49 [00:00<?, ?it/s]"
      ]
     },
     "metadata": {},
     "output_type": "display_data"
    },
    {
     "data": {
      "application/vnd.jupyter.widget-view+json": {
       "model_id": "",
       "version_major": 2,
       "version_minor": 0
      },
      "text/plain": [
       "  0%|          | 0/49 [00:00<?, ?it/s]"
      ]
     },
     "metadata": {},
     "output_type": "display_data"
    },
    {
     "data": {
      "application/vnd.jupyter.widget-view+json": {
       "model_id": "",
       "version_major": 2,
       "version_minor": 0
      },
      "text/plain": [
       "  0%|          | 0/49 [00:00<?, ?it/s]"
      ]
     },
     "metadata": {},
     "output_type": "display_data"
    },
    {
     "data": {
      "application/vnd.jupyter.widget-view+json": {
       "model_id": "",
       "version_major": 2,
       "version_minor": 0
      },
      "text/plain": [
       "  0%|          | 0/49 [00:00<?, ?it/s]"
      ]
     },
     "metadata": {},
     "output_type": "display_data"
    },
    {
     "data": {
      "application/vnd.jupyter.widget-view+json": {
       "model_id": "",
       "version_major": 2,
       "version_minor": 0
      },
      "text/plain": [
       "  0%|          | 0/49 [00:00<?, ?it/s]"
      ]
     },
     "metadata": {},
     "output_type": "display_data"
    },
    {
     "data": {
      "application/vnd.jupyter.widget-view+json": {
       "model_id": "",
       "version_major": 2,
       "version_minor": 0
      },
      "text/plain": [
       "  0%|          | 0/49 [00:00<?, ?it/s]"
      ]
     },
     "metadata": {},
     "output_type": "display_data"
    },
    {
     "data": {
      "application/vnd.jupyter.widget-view+json": {
       "model_id": "",
       "version_major": 2,
       "version_minor": 0
      },
      "text/plain": [
       "  0%|          | 0/49 [00:00<?, ?it/s]"
      ]
     },
     "metadata": {},
     "output_type": "display_data"
    },
    {
     "data": {
      "application/vnd.jupyter.widget-view+json": {
       "model_id": "",
       "version_major": 2,
       "version_minor": 0
      },
      "text/plain": [
       "  0%|          | 0/49 [00:00<?, ?it/s]"
      ]
     },
     "metadata": {},
     "output_type": "display_data"
    },
    {
     "data": {
      "application/vnd.jupyter.widget-view+json": {
       "model_id": "",
       "version_major": 2,
       "version_minor": 0
      },
      "text/plain": [
       "  0%|          | 0/49 [00:00<?, ?it/s]"
      ]
     },
     "metadata": {},
     "output_type": "display_data"
    },
    {
     "data": {
      "application/vnd.jupyter.widget-view+json": {
       "model_id": "",
       "version_major": 2,
       "version_minor": 0
      },
      "text/plain": [
       "  0%|          | 0/49 [00:00<?, ?it/s]"
      ]
     },
     "metadata": {},
     "output_type": "display_data"
    }
   ],
   "source": [
    "corr_matrix_p = [[get_eigenvectors_corr(c1.FC, c2.SC, 'pearson')[0] \n",
    "                for c1 in tqdm(connectomes.values(), leave=False)] \n",
    "               for c2 in tqdm(connectomes.values())]"
   ]
  },
  {
   "cell_type": "code",
   "execution_count": 178,
   "id": "innovative-tension",
   "metadata": {
    "ExecuteTime": {
     "end_time": "2021-07-15T05:45:00.950474Z",
     "start_time": "2021-07-15T05:44:59.901826Z"
    },
    "scrolled": true
   },
   "outputs": [
    {
     "data": {
      "text/plain": [
       "<AxesSubplot:>"
      ]
     },
     "execution_count": 178,
     "metadata": {},
     "output_type": "execute_result"
    },
    {
     "data": {
      "image/png": "[encoded data removed]",
      "text/plain": [
       "<Figure size 432x288 with 2 Axes>"
      ]
     },
     "metadata": {
      "needs_background": "light"
     },
     "output_type": "display_data"
    }
   ],
   "source": [
    "corr_matrix_p = np.array(corr_matrix_p)\n",
    "sns.heatmap(corr_matrix_p)"
   ]
  },
  {
   "cell_type": "code",
   "execution_count": 179,
   "id": "architectural-boutique",
   "metadata": {
    "ExecuteTime": {
     "end_time": "2021-07-15T05:45:03.714822Z",
     "start_time": "2021-07-15T05:45:03.692385Z"
    }
   },
   "outputs": [
    {
     "data": {
      "text/plain": [
       "array([0.91304656, 0.9681662 , 0.98063421, 0.99061706, 0.992315  ,\n",
       "       0.97687829, 0.98273896, 0.98497304, 0.98281364, 0.98516845,\n",
       "       0.9851455 , 0.96667022, 0.99234872, 0.98141026, 0.99080288,\n",
       "       0.97840655, 0.92860416, 0.91818227, 0.92282618, 0.99188382,\n",
       "       0.95295464, 0.99037375, 0.98508158, 0.94028785, 0.9748429 ,\n",
       "       0.97288661, 0.96263511, 0.89069713, 0.9680781 , 0.98197671,\n",
       "       0.94796454, 0.96303765, 0.98296706, 0.98085075, 0.99310072,\n",
       "       0.98731593, 0.98331014, 0.98498437, 0.97921044, 0.9603218 ,\n",
       "       0.9560492 , 0.97105744, 0.98317491, 0.97561568, 0.98962029,\n",
       "       0.93703091, 0.96468422, 0.99211298, 0.95402016])"
      ]
     },
     "execution_count": 179,
     "metadata": {},
     "output_type": "execute_result"
    }
   ],
   "source": [
    "corr_matrix_p.diagonal()"
   ]
  },
  {
   "cell_type": "code",
   "execution_count": 180,
   "id": "historic-wholesale",
   "metadata": {
    "ExecuteTime": {
     "end_time": "2021-07-15T05:45:10.446383Z",
     "start_time": "2021-07-15T05:45:10.431903Z"
    }
   },
   "outputs": [
    {
     "data": {
      "text/plain": [
       "array([-0.06367864,  0.00314276,  0.00665254,  0.01969817,  0.01324265,\n",
       "        0.01031322,  0.01141979,  0.00626401,  0.00299952,  0.00807696,\n",
       "        0.01514034, -0.00573417,  0.01803387,  0.003906  ,  0.02437785,\n",
       "        0.01125163, -0.03815883, -0.03713729, -0.04502712,  0.01518972,\n",
       "       -0.01974072,  0.01383024,  0.00890432, -0.00862108,  0.00071602,\n",
       "        0.00631921, -0.00835389, -0.06824759,  0.00642422,  0.01494069,\n",
       "       -0.02141852, -0.00331851,  0.00354385,  0.02502571,  0.01468274,\n",
       "        0.00583324,  0.02320589,  0.01775212,  0.00462437, -0.01924986,\n",
       "        0.00596646, -0.00131457,  0.01557059,  0.01116885,  0.00760206,\n",
       "       -0.03765893, -0.00853951,  0.01886128, -0.01538699])"
      ]
     },
     "execution_count": 180,
     "metadata": {},
     "output_type": "execute_result"
    }
   ],
   "source": [
    "corr_matrix_p.diagonal() - corr_matrix_p.mean(axis=1)"
   ]
  },
  {
   "cell_type": "markdown",
   "id": "ongoing-immunology",
   "metadata": {},
   "source": [
    "# 2. ICA"
   ]
  },
  {
   "cell_type": "code",
   "execution_count": 131,
   "id": "mounted-programmer",
   "metadata": {
    "ExecuteTime": {
     "end_time": "2021-07-13T22:10:50.946650Z",
     "start_time": "2021-07-13T22:10:50.772371Z"
    }
   },
   "outputs": [],
   "source": [
    "tau_mat_90 = df_fc[:90].T.corr(method='kendall').to_numpy()\n",
    "c_f_max_90 = abs(tau_mat_90 - np.eye(tau_mat_90.shape[0])).max()\n",
    "tau_mat_90[abs(tau_mat_90) < 0.05*c_f_max_90] = 0\n",
    "tau_eigenvalues_90, tau_eigenvectors_90 = np.linalg.eig(tau_mat_90)"
   ]
  },
  {
   "cell_type": "code",
   "execution_count": 198,
   "id": "operational-bubble",
   "metadata": {
    "ExecuteTime": {
     "end_time": "2021-07-15T09:05:11.875733Z",
     "start_time": "2021-07-15T09:05:11.777488Z"
    }
   },
   "outputs": [],
   "source": [
    "ica = FastICA(n_components=20)\n",
    "ica_fc = ica.fit_transform(df_fc[:90])"
   ]
  },
  {
   "cell_type": "code",
   "execution_count": 200,
   "id": "surprising-empire",
   "metadata": {
    "ExecuteTime": {
     "end_time": "2021-07-15T09:05:13.562741Z",
     "start_time": "2021-07-15T09:05:13.544485Z"
    }
   },
   "outputs": [
    {
     "data": {
      "text/plain": [
       "(90, 20)"
      ]
     },
     "execution_count": 200,
     "metadata": {},
     "output_type": "execute_result"
    }
   ],
   "source": [
    "ica_fc.shape"
   ]
  },
  {
   "cell_type": "code",
   "execution_count": 201,
   "id": "foster-packaging",
   "metadata": {
    "ExecuteTime": {
     "end_time": "2021-07-15T09:05:16.073200Z",
     "start_time": "2021-07-15T09:05:15.225636Z"
    }
   },
   "outputs": [
    {
     "data": {
      "image/png": "[encoded data removed]",
      "text/plain": [
       "<Figure size 576x432 with 6 Axes>"
      ]
     },
     "metadata": {
      "needs_background": "light"
     },
     "output_type": "display_data"
    }
   ],
   "source": [
    "fig, axes = plt.subplots(2,3, sharex=True, figsize=(8,6))\n",
    "for i in range(2, 8):\n",
    "    axis_x = (i-2) // 3\n",
    "    axis_y = (i-2) % 3\n",
    "    x = np.arange(0,ica_fc.shape[0])\n",
    "    y = [abs(stats.pearsonr(ica_fc[:, i], tau_eigenvectors_90[:, j])[0]) \n",
    "         for j in range(tau_eigenvectors.shape[0])]\n",
    "    axes[axis_x, axis_y].plot(x, y)\n",
    "    axes[axis_x, axis_y].set(xlabel=f'Eigenvector Index', ylabel=f'ICA componant {i+1}')\n",
    "plt.tight_layout()"
   ]
  },
  {
   "cell_type": "markdown",
   "id": "treated-behalf",
   "metadata": {},
   "source": [
    "# 4. Test"
   ]
  },
  {
   "cell_type": "markdown",
   "id": "premium-lunch",
   "metadata": {},
   "source": [
    "Let's check the correlation of random matrix's eig:"
   ]
  },
  {
   "cell_type": "markdown",
   "id": "brilliant-grenada",
   "metadata": {},
   "source": [
    "## 4.1 utils "
   ]
  },
  {
   "cell_type": "code",
   "execution_count": 374,
   "id": "consistent-banner",
   "metadata": {
    "ExecuteTime": {
     "end_time": "2021-07-16T14:24:59.112146Z",
     "start_time": "2021-07-16T14:24:59.084616Z"
    }
   },
   "outputs": [],
   "source": [
    "def get_eig_correlations(a, b, k):\n",
    "    a_val, a_vec = np.linalg.eig(a)\n",
    "    a_idx = a_val.argsort()[::-1]\n",
    "    a_val = a_val[a_idx]\n",
    "    a_vec = a_vec[:, a_idx]\n",
    "\n",
    "    b_val, b_vec = np.linalg.eig(b)\n",
    "    b_idx = b_val.argsort()[::-1]\n",
    "    b_val = b_val[b_idx]\n",
    "    b_vec = b_vec[:, b_idx]\n",
    "\n",
    "    val_corr = stats.pearsonr(a_val, b_val)[0]\n",
    "\n",
    "    eig_vec_corr_mat = np.array(\n",
    "        [[stats.pearsonr(a_v, b_v)[0] for b_v in b_vec[-k:]]\n",
    "         for a_v in a_vec[-k:]])\n",
    "    diag_corrs = eig_vec_corr_mat.diagonal().mean()\n",
    "    \n",
    "    mean_factor = (eig_vec_corr_mat.shape[0] * eig_vec_corr_mat.shape[1]) / (\n",
    "        eig_vec_corr_mat.shape[0] * eig_vec_corr_mat.shape[1] - k)\n",
    "    \n",
    "    mat_corrs = (eig_vec_corr_mat - np.eye(eig_vec_corr_mat.shape[0])* eig_vec_corr_mat.diagonal()).mean() * mean_factor\n",
    "    \n",
    "    return val_corr, diag_corrs, mat_corrs"
   ]
  },
  {
   "cell_type": "code",
   "execution_count": 375,
   "id": "laughing-associate",
   "metadata": {
    "ExecuteTime": {
     "end_time": "2021-07-16T14:24:59.661168Z",
     "start_time": "2021-07-16T14:24:59.654430Z"
    }
   },
   "outputs": [],
   "source": [
    "def generate_matrices(f, shape):\n",
    "    a = f(shape, shape)\n",
    "    b = f(shape, shape)\n",
    "    a = a + a.T\n",
    "    b = b + b.T\n",
    "    \n",
    "    return a, b"
   ]
  },
  {
   "cell_type": "code",
   "execution_count": 376,
   "id": "heard-subscription",
   "metadata": {
    "ExecuteTime": {
     "end_time": "2021-07-16T14:24:59.943862Z",
     "start_time": "2021-07-16T14:24:59.919349Z"
    }
   },
   "outputs": [],
   "source": [
    "def calc_and_print_correlations(sampling_function, shape, num_of_iterations, k=10, auto=False):\n",
    "    corrs = []\n",
    "    diag_corrs = []\n",
    "    mat_corrs = []\n",
    "    for i in tqdm(range(num_of_iterations)):\n",
    "        a,b = generate_matrices(sampling_function, shape)\n",
    "        if auto:\n",
    "            b = np.copy(a)\n",
    "\n",
    "        eig_val_corr, eig_vec_diag_corr, eig_vec_mat_corr = get_eig_correlations(a, b, k=k)\n",
    "        corrs.append(eig_val_corr)\n",
    "        diag_corrs.append(eig_vec_diag_corr)\n",
    "        mat_corrs.append(eig_vec_mat_corr)\n",
    "\n",
    "    if auto:\n",
    "        print('Calculations for matrix A with itself:')\n",
    "        \n",
    "    print(f'For sampling function {sampling_function.__name__}, sample {num_of_iterations} times:')\n",
    "    print(f'Eigenvalues correlation mean: {np.array(corrs).mean()}')\n",
    "    print(f'Top-{k} Eigenvector correlation matrix diagonal mean: {np.array(diag_corrs).mean()}')\n",
    "    print(f'Top-{k} Eigenvector correlation matrix without diagonal mean: {np.array(mat_corrs).mean()}')"
   ]
  },
  {
   "cell_type": "code",
   "execution_count": 388,
   "id": "joined-assembly",
   "metadata": {
    "ExecuteTime": {
     "end_time": "2021-07-16T14:31:16.696878Z",
     "start_time": "2021-07-16T14:31:16.688357Z"
    }
   },
   "outputs": [],
   "source": [
    "shape = 116\n",
    "num_of_iterations = 1000\n",
    "k = 10"
   ]
  },
  {
   "cell_type": "markdown",
   "id": "competitive-campbell",
   "metadata": {},
   "source": [
    "## 4.2 Unified distribution "
   ]
  },
  {
   "cell_type": "code",
   "execution_count": 386,
   "id": "employed-isaac",
   "metadata": {
    "ExecuteTime": {
     "end_time": "2021-07-16T14:30:38.618393Z",
     "start_time": "2021-07-16T14:30:00.978184Z"
    }
   },
   "outputs": [
    {
     "data": {
      "application/vnd.jupyter.widget-view+json": {
       "model_id": "12625da3c7a949c6a6aeb72870341388",
       "version_major": 2,
       "version_minor": 0
      },
      "text/plain": [
       "  0%|          | 0/1000 [00:00<?, ?it/s]"
      ]
     },
     "metadata": {},
     "output_type": "display_data"
    },
    {
     "name": "stdout",
     "output_type": "stream",
     "text": [
      "For sampling function rand, sample 1000 times:\n",
      "Eigenvalues correlation mean: 0.999925547868608\n",
      "Top-10 Eigenvector correlation matrix diagonal mean: 0.003342738306593342\n",
      "Top-10 Eigenvector correlation matrix without diagonal mean: 0.001814505406298556\n"
     ]
    }
   ],
   "source": [
    "calc_and_print_correlations(np.random.rand, shape, num_of_iterations)"
   ]
  },
  {
   "cell_type": "markdown",
   "id": "median-transition",
   "metadata": {},
   "source": [
    "And between a and itself:"
   ]
  },
  {
   "cell_type": "code",
   "execution_count": 387,
   "id": "median-binding",
   "metadata": {
    "ExecuteTime": {
     "end_time": "2021-07-16T14:31:16.626810Z",
     "start_time": "2021-07-16T14:30:38.620522Z"
    }
   },
   "outputs": [
    {
     "data": {
      "application/vnd.jupyter.widget-view+json": {
       "model_id": "f55a3c853429414895b1c6d323f91d5a",
       "version_major": 2,
       "version_minor": 0
      },
      "text/plain": [
       "  0%|          | 0/1000 [00:00<?, ?it/s]"
      ]
     },
     "metadata": {},
     "output_type": "display_data"
    },
    {
     "name": "stdout",
     "output_type": "stream",
     "text": [
      "Calculations for matrix A with itself:\n",
      "For sampling function rand, sample 1000 times:\n",
      "Eigenvalues correlation mean: 1.0\n",
      "Top-10 Eigenvector correlation matrix diagonal mean: 1.0\n",
      "Top-10 Eigenvector correlation matrix without diagonal mean: -5.8686906240546236e-06\n"
     ]
    }
   ],
   "source": [
    "calc_and_print_correlations(np.random.rand, shape, num_of_iterations, auto=True)"
   ]
  },
  {
   "cell_type": "markdown",
   "id": "editorial-european",
   "metadata": {},
   "source": [
    "## 4.3 Normal distribution "
   ]
  },
  {
   "cell_type": "code",
   "execution_count": 389,
   "id": "utility-canadian",
   "metadata": {
    "ExecuteTime": {
     "end_time": "2021-07-16T14:32:09.800558Z",
     "start_time": "2021-07-16T14:31:31.163679Z"
    }
   },
   "outputs": [
    {
     "data": {
      "application/vnd.jupyter.widget-view+json": {
       "model_id": "b85d849c71834ac9a0e9e84902ea456b",
       "version_major": 2,
       "version_minor": 0
      },
      "text/plain": [
       "  0%|          | 0/1000 [00:00<?, ?it/s]"
      ]
     },
     "metadata": {},
     "output_type": "display_data"
    },
    {
     "name": "stdout",
     "output_type": "stream",
     "text": [
      "For sampling function randn, sample 1000 times:\n",
      "Eigenvalues correlation mean: 0.9995356186872455\n",
      "Top-10 Eigenvector correlation matrix diagonal mean: -0.00045537315722600236\n",
      "Top-10 Eigenvector correlation matrix without diagonal mean: -5.7412522560626374e-05\n"
     ]
    }
   ],
   "source": [
    "calc_and_print_correlations(np.random.randn, shape, num_of_iterations)"
   ]
  },
  {
   "cell_type": "markdown",
   "id": "august-logan",
   "metadata": {},
   "source": [
    "And between a and itself:"
   ]
  },
  {
   "cell_type": "code",
   "execution_count": 390,
   "id": "stunning-italian",
   "metadata": {
    "ExecuteTime": {
     "end_time": "2021-07-16T14:32:50.667382Z",
     "start_time": "2021-07-16T14:32:09.802553Z"
    }
   },
   "outputs": [
    {
     "data": {
      "application/vnd.jupyter.widget-view+json": {
       "model_id": "c7dd3373efd14a5398a45d45512d8d15",
       "version_major": 2,
       "version_minor": 0
      },
      "text/plain": [
       "  0%|          | 0/1000 [00:00<?, ?it/s]"
      ]
     },
     "metadata": {},
     "output_type": "display_data"
    },
    {
     "name": "stdout",
     "output_type": "stream",
     "text": [
      "Calculations for matrix A with itself:\n",
      "For sampling function randn, sample 1000 times:\n",
      "Eigenvalues correlation mean: 1.0\n",
      "Top-10 Eigenvector correlation matrix diagonal mean: 1.0\n",
      "Top-10 Eigenvector correlation matrix without diagonal mean: 9.808656613625529e-06\n"
     ]
    }
   ],
   "source": [
    "calc_and_print_correlations(np.random.randn, shape, num_of_iterations, auto=True)"
   ]
  },
  {
   "cell_type": "markdown",
   "id": "connected-exposure",
   "metadata": {},
   "source": [
    "## 4.2 Sparse matrices"
   ]
  },
  {
   "cell_type": "code",
   "execution_count": null,
   "id": "spectacular-director",
   "metadata": {},
   "outputs": [],
   "source": []
  }
 ],
 "metadata": {
  "kernelspec": {
   "display_name": "Python 3",
   "language": "python",
   "name": "python3"
  },
  "language_info": {
   "codemirror_mode": {
    "name": "ipython",
    "version": 3
   },
   "file_extension": ".py",
   "mimetype": "text/x-python",
   "name": "python",
   "nbconvert_exporter": "python",
   "pygments_lexer": "ipython3",
   "version": "3.8.8"
  },
  "toc": {
   "base_numbering": "2",
   "nav_menu": {},
   "number_sections": false,
   "sideBar": true,
   "skip_h1_title": false,
   "title_cell": "Table of Contents",
   "title_sidebar": "Contents",
   "toc_cell": true,
   "toc_position": {
    "height": "calc(100% - 180px)",
    "left": "10px",
    "top": "150px",
    "width": "165px"
   },
   "toc_section_display": true,
   "toc_window_display": true
  }
 },
 "nbformat": 4,
 "nbformat_minor": 5
}
